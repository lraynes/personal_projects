{
 "cells": [
  {
   "cell_type": "code",
   "execution_count": 24,
   "metadata": {},
   "outputs": [],
   "source": [
    "import pandas as pd\n",
    "import numpy as np\n",
    "import matplotlib.pyplot as plt\n",
    "import plotly\n",
    "from config import user, apikey\n",
    "plotly.tools.set_credentials_file(username=user, api_key=apikey)\n",
    "import plotly.plotly as py\n",
    "import plotly.figure_factory as ff\n",
    "\n",
    "data = pd.read_csv(\"real_estate_db.csv\", encoding='ISO-8859-1')\n",
    "all_fips = pd.read_csv(\"all-geocodes-v2016.csv\", encoding='ISO-8859-1')"
   ]
  },
  {
   "cell_type": "code",
   "execution_count": 25,
   "metadata": {},
   "outputs": [
    {
     "data": {
      "text/html": [
       "<div>\n",
       "<style scoped>\n",
       "    .dataframe tbody tr th:only-of-type {\n",
       "        vertical-align: middle;\n",
       "    }\n",
       "\n",
       "    .dataframe tbody tr th {\n",
       "        vertical-align: top;\n",
       "    }\n",
       "\n",
       "    .dataframe thead th {\n",
       "        text-align: right;\n",
       "    }\n",
       "</style>\n",
       "<table border=\"1\" class=\"dataframe\">\n",
       "  <thead>\n",
       "    <tr style=\"text-align: right;\">\n",
       "      <th></th>\n",
       "      <th>rent_gt_40</th>\n",
       "      <th>STATEID</th>\n",
       "      <th>COUNTYID</th>\n",
       "      <th>state</th>\n",
       "    </tr>\n",
       "  </thead>\n",
       "  <tbody>\n",
       "    <tr>\n",
       "      <th>0</th>\n",
       "      <td>0.15135</td>\n",
       "      <td>2</td>\n",
       "      <td>16</td>\n",
       "      <td>Alaska</td>\n",
       "    </tr>\n",
       "    <tr>\n",
       "      <th>1</th>\n",
       "      <td>0.20455</td>\n",
       "      <td>2</td>\n",
       "      <td>20</td>\n",
       "      <td>Alaska</td>\n",
       "    </tr>\n",
       "    <tr>\n",
       "      <th>2</th>\n",
       "      <td>0.54368</td>\n",
       "      <td>2</td>\n",
       "      <td>20</td>\n",
       "      <td>Alaska</td>\n",
       "    </tr>\n",
       "    <tr>\n",
       "      <th>3</th>\n",
       "      <td>0.27286</td>\n",
       "      <td>2</td>\n",
       "      <td>20</td>\n",
       "      <td>Alaska</td>\n",
       "    </tr>\n",
       "    <tr>\n",
       "      <th>4</th>\n",
       "      <td>0.24829</td>\n",
       "      <td>2</td>\n",
       "      <td>20</td>\n",
       "      <td>Alaska</td>\n",
       "    </tr>\n",
       "  </tbody>\n",
       "</table>\n",
       "</div>"
      ],
      "text/plain": [
       "   rent_gt_40  STATEID  COUNTYID   state\n",
       "0     0.15135        2        16  Alaska\n",
       "1     0.20455        2        20  Alaska\n",
       "2     0.54368        2        20  Alaska\n",
       "3     0.27286        2        20  Alaska\n",
       "4     0.24829        2        20  Alaska"
      ]
     },
     "execution_count": 25,
     "metadata": {},
     "output_type": "execute_result"
    }
   ],
   "source": [
    "rent_40_df = data[[\"rent_gt_40\", 'STATEID', \"COUNTYID\", \"state\"]]\n",
    "rent_40_df.head()"
   ]
  },
  {
   "cell_type": "code",
   "execution_count": 26,
   "metadata": {},
   "outputs": [],
   "source": [
    "rent_40_df.loc[:,\"STATEID\"] = rent_40_df[\"STATEID\"].map(\"{:02d}\".format)\n",
    "rent_40_df.loc[:,\"COUNTYID\"] = rent_40_df[\"COUNTYID\"].map(\"{:003d}\".format)"
   ]
  },
  {
   "cell_type": "code",
   "execution_count": 27,
   "metadata": {},
   "outputs": [
    {
     "data": {
      "text/html": [
       "<div>\n",
       "<style scoped>\n",
       "    .dataframe tbody tr th:only-of-type {\n",
       "        vertical-align: middle;\n",
       "    }\n",
       "\n",
       "    .dataframe tbody tr th {\n",
       "        vertical-align: top;\n",
       "    }\n",
       "\n",
       "    .dataframe thead th {\n",
       "        text-align: right;\n",
       "    }\n",
       "</style>\n",
       "<table border=\"1\" class=\"dataframe\">\n",
       "  <thead>\n",
       "    <tr style=\"text-align: right;\">\n",
       "      <th></th>\n",
       "      <th>rent_gt_40</th>\n",
       "      <th>STATEID</th>\n",
       "      <th>COUNTYID</th>\n",
       "      <th>state</th>\n",
       "    </tr>\n",
       "  </thead>\n",
       "  <tbody>\n",
       "    <tr>\n",
       "      <th>0</th>\n",
       "      <td>0.15135</td>\n",
       "      <td>02</td>\n",
       "      <td>016</td>\n",
       "      <td>Alaska</td>\n",
       "    </tr>\n",
       "    <tr>\n",
       "      <th>1</th>\n",
       "      <td>0.20455</td>\n",
       "      <td>02</td>\n",
       "      <td>020</td>\n",
       "      <td>Alaska</td>\n",
       "    </tr>\n",
       "    <tr>\n",
       "      <th>2</th>\n",
       "      <td>0.54368</td>\n",
       "      <td>02</td>\n",
       "      <td>020</td>\n",
       "      <td>Alaska</td>\n",
       "    </tr>\n",
       "    <tr>\n",
       "      <th>3</th>\n",
       "      <td>0.27286</td>\n",
       "      <td>02</td>\n",
       "      <td>020</td>\n",
       "      <td>Alaska</td>\n",
       "    </tr>\n",
       "    <tr>\n",
       "      <th>4</th>\n",
       "      <td>0.24829</td>\n",
       "      <td>02</td>\n",
       "      <td>020</td>\n",
       "      <td>Alaska</td>\n",
       "    </tr>\n",
       "  </tbody>\n",
       "</table>\n",
       "</div>"
      ],
      "text/plain": [
       "   rent_gt_40 STATEID COUNTYID   state\n",
       "0     0.15135      02      016  Alaska\n",
       "1     0.20455      02      020  Alaska\n",
       "2     0.54368      02      020  Alaska\n",
       "3     0.27286      02      020  Alaska\n",
       "4     0.24829      02      020  Alaska"
      ]
     },
     "execution_count": 27,
     "metadata": {},
     "output_type": "execute_result"
    }
   ],
   "source": [
    "rent_40_df.head()"
   ]
  },
  {
   "cell_type": "code",
   "execution_count": 28,
   "metadata": {},
   "outputs": [],
   "source": [
    "rent_40_df[\"FIPS\"] = rent_40_df[\"STATEID\"].map(str) + rent_40_df[\"COUNTYID\"].map(str)"
   ]
  },
  {
   "cell_type": "code",
   "execution_count": 29,
   "metadata": {},
   "outputs": [
    {
     "data": {
      "text/html": [
       "<div>\n",
       "<style scoped>\n",
       "    .dataframe tbody tr th:only-of-type {\n",
       "        vertical-align: middle;\n",
       "    }\n",
       "\n",
       "    .dataframe tbody tr th {\n",
       "        vertical-align: top;\n",
       "    }\n",
       "\n",
       "    .dataframe thead th {\n",
       "        text-align: right;\n",
       "    }\n",
       "</style>\n",
       "<table border=\"1\" class=\"dataframe\">\n",
       "  <thead>\n",
       "    <tr style=\"text-align: right;\">\n",
       "      <th></th>\n",
       "      <th>rent_gt_40</th>\n",
       "      <th>STATEID</th>\n",
       "      <th>COUNTYID</th>\n",
       "      <th>state</th>\n",
       "      <th>FIPS</th>\n",
       "    </tr>\n",
       "  </thead>\n",
       "  <tbody>\n",
       "    <tr>\n",
       "      <th>0</th>\n",
       "      <td>0.15135</td>\n",
       "      <td>02</td>\n",
       "      <td>016</td>\n",
       "      <td>Alaska</td>\n",
       "      <td>02016</td>\n",
       "    </tr>\n",
       "    <tr>\n",
       "      <th>1</th>\n",
       "      <td>0.20455</td>\n",
       "      <td>02</td>\n",
       "      <td>020</td>\n",
       "      <td>Alaska</td>\n",
       "      <td>02020</td>\n",
       "    </tr>\n",
       "    <tr>\n",
       "      <th>2</th>\n",
       "      <td>0.54368</td>\n",
       "      <td>02</td>\n",
       "      <td>020</td>\n",
       "      <td>Alaska</td>\n",
       "      <td>02020</td>\n",
       "    </tr>\n",
       "    <tr>\n",
       "      <th>3</th>\n",
       "      <td>0.27286</td>\n",
       "      <td>02</td>\n",
       "      <td>020</td>\n",
       "      <td>Alaska</td>\n",
       "      <td>02020</td>\n",
       "    </tr>\n",
       "    <tr>\n",
       "      <th>4</th>\n",
       "      <td>0.24829</td>\n",
       "      <td>02</td>\n",
       "      <td>020</td>\n",
       "      <td>Alaska</td>\n",
       "      <td>02020</td>\n",
       "    </tr>\n",
       "  </tbody>\n",
       "</table>\n",
       "</div>"
      ],
      "text/plain": [
       "   rent_gt_40 STATEID COUNTYID   state   FIPS\n",
       "0     0.15135      02      016  Alaska  02016\n",
       "1     0.20455      02      020  Alaska  02020\n",
       "2     0.54368      02      020  Alaska  02020\n",
       "3     0.27286      02      020  Alaska  02020\n",
       "4     0.24829      02      020  Alaska  02020"
      ]
     },
     "execution_count": 29,
     "metadata": {},
     "output_type": "execute_result"
    }
   ],
   "source": [
    "rent_40_clean = rent_40_df.dropna(how='any')\n",
    "rent_40_clean.head()"
   ]
  },
  {
   "cell_type": "code",
   "execution_count": 36,
   "metadata": {},
   "outputs": [
    {
     "data": {
      "text/html": [
       "<div>\n",
       "<style scoped>\n",
       "    .dataframe tbody tr th:only-of-type {\n",
       "        vertical-align: middle;\n",
       "    }\n",
       "\n",
       "    .dataframe tbody tr th {\n",
       "        vertical-align: top;\n",
       "    }\n",
       "\n",
       "    .dataframe thead th {\n",
       "        text-align: right;\n",
       "    }\n",
       "</style>\n",
       "<table border=\"1\" class=\"dataframe\">\n",
       "  <thead>\n",
       "    <tr style=\"text-align: right;\">\n",
       "      <th></th>\n",
       "      <th>FIPS</th>\n",
       "      <th>rent_gt_40</th>\n",
       "    </tr>\n",
       "  </thead>\n",
       "  <tbody>\n",
       "    <tr>\n",
       "      <th>0</th>\n",
       "      <td>01001</td>\n",
       "      <td>0.348900</td>\n",
       "    </tr>\n",
       "    <tr>\n",
       "      <th>1</th>\n",
       "      <td>01003</td>\n",
       "      <td>0.312674</td>\n",
       "    </tr>\n",
       "    <tr>\n",
       "      <th>2</th>\n",
       "      <td>01005</td>\n",
       "      <td>0.386574</td>\n",
       "    </tr>\n",
       "    <tr>\n",
       "      <th>3</th>\n",
       "      <td>01007</td>\n",
       "      <td>0.254480</td>\n",
       "    </tr>\n",
       "    <tr>\n",
       "      <th>4</th>\n",
       "      <td>01009</td>\n",
       "      <td>0.361050</td>\n",
       "    </tr>\n",
       "  </tbody>\n",
       "</table>\n",
       "</div>"
      ],
      "text/plain": [
       "    FIPS  rent_gt_40\n",
       "0  01001    0.348900\n",
       "1  01003    0.312674\n",
       "2  01005    0.386574\n",
       "3  01007    0.254480\n",
       "4  01009    0.361050"
      ]
     },
     "execution_count": 36,
     "metadata": {},
     "output_type": "execute_result"
    }
   ],
   "source": [
    "grouped_data = rent_40_clean.groupby([\"FIPS\"])\n",
    "mean_rent_40 = grouped_data.mean().reset_index()\n",
    "mean_rent_40.head()"
   ]
  },
  {
   "cell_type": "code",
   "execution_count": 31,
   "metadata": {},
   "outputs": [],
   "source": [
    "#Add leading zeros\n",
    "all_fips.loc[:,\"State Code (FIPS)\"] = all_fips[\"State Code (FIPS)\"].map(\"{:02d}\".format)\n",
    "all_fips.loc[:,\"County Code (FIPS)\"] = all_fips[\"County Code (FIPS)\"].map(\"{:003d}\".format)"
   ]
  },
  {
   "cell_type": "code",
   "execution_count": 32,
   "metadata": {},
   "outputs": [
    {
     "data": {
      "text/html": [
       "<div>\n",
       "<style scoped>\n",
       "    .dataframe tbody tr th:only-of-type {\n",
       "        vertical-align: middle;\n",
       "    }\n",
       "\n",
       "    .dataframe tbody tr th {\n",
       "        vertical-align: top;\n",
       "    }\n",
       "\n",
       "    .dataframe thead th {\n",
       "        text-align: right;\n",
       "    }\n",
       "</style>\n",
       "<table border=\"1\" class=\"dataframe\">\n",
       "  <thead>\n",
       "    <tr style=\"text-align: right;\">\n",
       "      <th></th>\n",
       "      <th>FIPS</th>\n",
       "    </tr>\n",
       "  </thead>\n",
       "  <tbody>\n",
       "    <tr>\n",
       "      <th>0</th>\n",
       "      <td>01001</td>\n",
       "    </tr>\n",
       "    <tr>\n",
       "      <th>1</th>\n",
       "      <td>01003</td>\n",
       "    </tr>\n",
       "    <tr>\n",
       "      <th>2</th>\n",
       "      <td>01005</td>\n",
       "    </tr>\n",
       "    <tr>\n",
       "      <th>3</th>\n",
       "      <td>01007</td>\n",
       "    </tr>\n",
       "    <tr>\n",
       "      <th>4</th>\n",
       "      <td>01009</td>\n",
       "    </tr>\n",
       "  </tbody>\n",
       "</table>\n",
       "</div>"
      ],
      "text/plain": [
       "    FIPS\n",
       "0  01001\n",
       "1  01003\n",
       "2  01005\n",
       "3  01007\n",
       "4  01009"
      ]
     },
     "execution_count": 32,
     "metadata": {},
     "output_type": "execute_result"
    }
   ],
   "source": [
    "#Add column for full FIPS\n",
    "all_fips[\"FIPS\"] = all_fips[\"State Code (FIPS)\"].map(str) + all_fips[\"County Code (FIPS)\"].map(str)\n",
    "\n",
    "#Keep only counties\n",
    "county_fips = all_fips[all_fips[\"County Code (FIPS)\"] != \"000\"].reset_index()\n",
    "\n",
    "clean_fips = county_fips[[\"FIPS\"]]\n",
    "clean_fips.head()"
   ]
  },
  {
   "cell_type": "code",
   "execution_count": 33,
   "metadata": {},
   "outputs": [
    {
     "data": {
      "text/html": [
       "<div>\n",
       "<style scoped>\n",
       "    .dataframe tbody tr th:only-of-type {\n",
       "        vertical-align: middle;\n",
       "    }\n",
       "\n",
       "    .dataframe tbody tr th {\n",
       "        vertical-align: top;\n",
       "    }\n",
       "\n",
       "    .dataframe thead th {\n",
       "        text-align: right;\n",
       "    }\n",
       "</style>\n",
       "<table border=\"1\" class=\"dataframe\">\n",
       "  <thead>\n",
       "    <tr style=\"text-align: right;\">\n",
       "      <th></th>\n",
       "      <th>FIPS</th>\n",
       "      <th>rent_gt_40</th>\n",
       "    </tr>\n",
       "  </thead>\n",
       "  <tbody>\n",
       "    <tr>\n",
       "      <th>0</th>\n",
       "      <td>01001</td>\n",
       "      <td>0.348900</td>\n",
       "    </tr>\n",
       "    <tr>\n",
       "      <th>1</th>\n",
       "      <td>01003</td>\n",
       "      <td>0.312674</td>\n",
       "    </tr>\n",
       "    <tr>\n",
       "      <th>2</th>\n",
       "      <td>01005</td>\n",
       "      <td>0.386574</td>\n",
       "    </tr>\n",
       "    <tr>\n",
       "      <th>3</th>\n",
       "      <td>01007</td>\n",
       "      <td>0.254480</td>\n",
       "    </tr>\n",
       "    <tr>\n",
       "      <th>4</th>\n",
       "      <td>01009</td>\n",
       "      <td>0.361050</td>\n",
       "    </tr>\n",
       "  </tbody>\n",
       "</table>\n",
       "</div>"
      ],
      "text/plain": [
       "    FIPS  rent_gt_40\n",
       "0  01001    0.348900\n",
       "1  01003    0.312674\n",
       "2  01005    0.386574\n",
       "3  01007    0.254480\n",
       "4  01009    0.361050"
      ]
     },
     "execution_count": 33,
     "metadata": {},
     "output_type": "execute_result"
    }
   ],
   "source": [
    "merge_table = pd.merge(clean_fips, mean_rent_40, how=\"outer\")\n",
    "\n",
    "#Fill missing counties with median\n",
    "merge_table[\"rent_gt_40\"].fillna(mean_rent_40[\"rent_gt_40\"].median(), inplace=True)\n",
    "\n",
    "merge_table.head()"
   ]
  },
  {
   "cell_type": "code",
   "execution_count": 71,
   "metadata": {},
   "outputs": [
    {
     "data": {
      "text/html": [
       "<div>\n",
       "<style scoped>\n",
       "    .dataframe tbody tr th:only-of-type {\n",
       "        vertical-align: middle;\n",
       "    }\n",
       "\n",
       "    .dataframe tbody tr th {\n",
       "        vertical-align: top;\n",
       "    }\n",
       "\n",
       "    .dataframe thead th {\n",
       "        text-align: right;\n",
       "    }\n",
       "</style>\n",
       "<table border=\"1\" class=\"dataframe\">\n",
       "  <thead>\n",
       "    <tr style=\"text-align: right;\">\n",
       "      <th></th>\n",
       "      <th>FIPS</th>\n",
       "      <th>rent_gt_40</th>\n",
       "    </tr>\n",
       "  </thead>\n",
       "  <tbody>\n",
       "    <tr>\n",
       "      <th>0</th>\n",
       "      <td>02013</td>\n",
       "      <td>0.309533</td>\n",
       "    </tr>\n",
       "    <tr>\n",
       "      <th>1</th>\n",
       "      <td>02016</td>\n",
       "      <td>0.151350</td>\n",
       "    </tr>\n",
       "    <tr>\n",
       "      <th>2</th>\n",
       "      <td>02020</td>\n",
       "      <td>0.232252</td>\n",
       "    </tr>\n",
       "    <tr>\n",
       "      <th>3</th>\n",
       "      <td>02050</td>\n",
       "      <td>0.159900</td>\n",
       "    </tr>\n",
       "    <tr>\n",
       "      <th>4</th>\n",
       "      <td>02060</td>\n",
       "      <td>0.112780</td>\n",
       "    </tr>\n",
       "  </tbody>\n",
       "</table>\n",
       "</div>"
      ],
      "text/plain": [
       "    FIPS  rent_gt_40\n",
       "0  02013    0.309533\n",
       "1  02016    0.151350\n",
       "2  02020    0.232252\n",
       "3  02050    0.159900\n",
       "4  02060    0.112780"
      ]
     },
     "execution_count": 71,
     "metadata": {},
     "output_type": "execute_result"
    }
   ],
   "source": [
    "northeast = merge_table.loc[merge_table[\"FIPS\"].str[:2].isin(\n",
    "    [\"09\", \"23\", \"25\", \"33\", \"44\", \"50\", \"34\", \"36\", \"42\"]\n",
    ")].reset_index(drop=True)\n",
    "\n",
    "midwest = merge_table.loc[merge_table[\"FIPS\"].str[:2].isin(\n",
    "    [\"17\", \"18\", \"26\", \"39\", \"55\", \"19\", \"20\", \"27\", \"29\", \"31\", \"38\", \"46\"]\n",
    ")].reset_index(drop=True)\n",
    "\n",
    "south = merge_table.loc[merge_table[\"FIPS\"].str[:2].isin(\n",
    "    [\"10\", \"11\", \"12\", \"13\", \"24\", \"37\", \"45\", \"51\", \"54\", \"01\", \"21\", \"28\", \"47\", \"05\", \"22\", \"40\", \"48\"]\n",
    ")].reset_index(drop=True)\n",
    "\n",
    "west = merge_table.loc[merge_table[\"FIPS\"].str[:2].isin(\n",
    "    [\"08\", \"16\", \"30\", \"32\", \"35\", \"49\", \"56\", \"02\", \"06\", \"15\", \"41\", \"53\"]\n",
    ")].reset_index(drop=True)\n",
    "\n",
    "\n",
    "west.head()"
   ]
  },
  {
   "cell_type": "markdown",
   "metadata": {},
   "source": [
    "# Northeast"
   ]
  },
  {
   "cell_type": "code",
   "execution_count": 66,
   "metadata": {},
   "outputs": [
    {
     "name": "stderr",
     "output_type": "stream",
     "text": [
      "C:\\Users\\rayne\\Anaconda3\\lib\\site-packages\\pandas\\core\\frame.py:6201: FutureWarning:\n",
      "\n",
      "Sorting because non-concatenation axis is not aligned. A future version\n",
      "of pandas will change to not sort by default.\n",
      "\n",
      "To accept the future behavior, pass 'sort=True'.\n",
      "\n",
      "To retain the current behavior and silence the warning, pass sort=False\n",
      "\n",
      "\n",
      "C:\\Users\\rayne\\Anaconda3\\lib\\site-packages\\plotly\\plotly\\plotly.py:224: UserWarning:\n",
      "\n",
      "Woah there! Look at all those points! Due to browser limitations, the Plotly SVG drawing functions have a hard time graphing more than 500k data points for line charts, or 40k points for other types of charts. Here are some suggestions:\n",
      "(1) Use the `plotly.graph_objs.Scattergl` trace object to generate a WebGl graph.\n",
      "(2) Trying using the image API to return an image instead of a graph URL\n",
      "(3) Use matplotlib\n",
      "(4) See if you can create your visualization with fewer data points\n",
      "\n",
      "If the visualization you're using aggregates points (e.g., box plot, histogram, etc.) you can disregard this warning.\n",
      "\n"
     ]
    },
    {
     "name": "stdout",
     "output_type": "stream",
     "text": [
      "The draw time for this plot will be slow for all clients.\n"
     ]
    },
    {
     "name": "stderr",
     "output_type": "stream",
     "text": [
      "C:\\Users\\rayne\\Anaconda3\\lib\\site-packages\\plotly\\api\\v1\\clientresp.py:40: UserWarning:\n",
      "\n",
      "Estimated Draw Time Too Long\n",
      "\n"
     ]
    },
    {
     "data": {
      "text/html": [
       "<iframe id=\"igraph\" scrolling=\"no\" style=\"border:none;\" seamless=\"seamless\" src=\"https://plot.ly/~lauraraynes/12.embed\" height=\"450px\" width=\"900px\"></iframe>"
      ],
      "text/plain": [
       "<plotly.tools.PlotlyDisplay object>"
      ]
     },
     "execution_count": 66,
     "metadata": {},
     "output_type": "execute_result"
    }
   ],
   "source": [
    "colorscale = [\"00E53D\",\"00E219\",\"09DF00\",\"2BDD00\",\"4DDA00\",\"6DD800\",\"8DD500\",\"ACD300\",\\\n",
    "              \"CBD000\",\"CEB300\",\"CB9200\",\"C97100\",\"C65000\",\"C43100\",\"C11200\",\"BF000A\"]    \n",
    "    \n",
    "endpts = list(np.linspace(0, 0.86364, len(colorscale) - 1))\n",
    "fips = northeast[\"FIPS\"]\n",
    "values = northeast[\"rent_gt_40\"]\n",
    "scope = [\"Connecticut\", \"Maine\", \"Massachusetts\", \"New Hampshire\", \"New Jersey\", \"Vermont\", \"New York\", \"Pennsylvania\"]\n",
    "\n",
    "fig = ff.create_choropleth(fips=fips, values=values, binning_endpoints=endpts, scope=scope,\n",
    "                           colorscale=colorscale, county_outline={'color': 'rgb(255,255,255)', 'width': 0.5})\n",
    "py.iplot(fig, filename='northeast')"
   ]
  },
  {
   "cell_type": "markdown",
   "metadata": {},
   "source": [
    "# Midwest"
   ]
  },
  {
   "cell_type": "code",
   "execution_count": 70,
   "metadata": {},
   "outputs": [
    {
     "name": "stderr",
     "output_type": "stream",
     "text": [
      "C:\\Users\\rayne\\Anaconda3\\lib\\site-packages\\pandas\\core\\frame.py:6201: FutureWarning:\n",
      "\n",
      "Sorting because non-concatenation axis is not aligned. A future version\n",
      "of pandas will change to not sort by default.\n",
      "\n",
      "To accept the future behavior, pass 'sort=True'.\n",
      "\n",
      "To retain the current behavior and silence the warning, pass sort=False\n",
      "\n",
      "\n",
      "C:\\Users\\rayne\\Anaconda3\\lib\\site-packages\\plotly\\plotly\\plotly.py:224: UserWarning:\n",
      "\n",
      "Woah there! Look at all those points! Due to browser limitations, the Plotly SVG drawing functions have a hard time graphing more than 500k data points for line charts, or 40k points for other types of charts. Here are some suggestions:\n",
      "(1) Use the `plotly.graph_objs.Scattergl` trace object to generate a WebGl graph.\n",
      "(2) Trying using the image API to return an image instead of a graph URL\n",
      "(3) Use matplotlib\n",
      "(4) See if you can create your visualization with fewer data points\n",
      "\n",
      "If the visualization you're using aggregates points (e.g., box plot, histogram, etc.) you can disregard this warning.\n",
      "\n"
     ]
    },
    {
     "name": "stdout",
     "output_type": "stream",
     "text": [
      "The draw time for this plot will be slow for all clients.\n"
     ]
    },
    {
     "name": "stderr",
     "output_type": "stream",
     "text": [
      "C:\\Users\\rayne\\Anaconda3\\lib\\site-packages\\plotly\\api\\v1\\clientresp.py:40: UserWarning:\n",
      "\n",
      "Estimated Draw Time Too Long\n",
      "\n"
     ]
    },
    {
     "data": {
      "text/html": [
       "<iframe id=\"igraph\" scrolling=\"no\" style=\"border:none;\" seamless=\"seamless\" src=\"https://plot.ly/~lauraraynes/14.embed\" height=\"450px\" width=\"900px\"></iframe>"
      ],
      "text/plain": [
       "<plotly.tools.PlotlyDisplay object>"
      ]
     },
     "execution_count": 70,
     "metadata": {},
     "output_type": "execute_result"
    }
   ],
   "source": [
    "colorscale = [\"00E53D\",\"00E219\",\"09DF00\",\"2BDD00\",\"4DDA00\",\"6DD800\",\"8DD500\",\"ACD300\",\\\n",
    "              \"CBD000\",\"CEB300\",\"CB9200\",\"C97100\",\"C65000\",\"C43100\",\"C11200\",\"BF000A\"]    \n",
    "    \n",
    "endpts = list(np.linspace(0, 0.86364, len(colorscale) - 1))\n",
    "fips = midwest[\"FIPS\"]\n",
    "values = midwest[\"rent_gt_40\"]\n",
    "scope = [\"Illinois\", \"Indiana\", \"Michigan\", \"Ohio\", \"Wisconsin\", \"Kansas\", \"Minnesota\", \\\n",
    "         \"Missouri\", \"Nebraska\", \"North Dakota\", \"South Dakota\"]\n",
    "\n",
    "fig = ff.create_choropleth(fips=fips, values=values, binning_endpoints=endpts, scope=scope,\n",
    "                           colorscale=colorscale, county_outline={'color': 'rgb(255,255,255)', 'width': 0.25})\n",
    "py.iplot(fig, filename='midwest')"
   ]
  },
  {
   "cell_type": "markdown",
   "metadata": {},
   "source": [
    "# South"
   ]
  },
  {
   "cell_type": "code",
   "execution_count": 72,
   "metadata": {},
   "outputs": [
    {
     "name": "stderr",
     "output_type": "stream",
     "text": [
      "C:\\Users\\rayne\\Anaconda3\\lib\\site-packages\\pandas\\core\\frame.py:6201: FutureWarning:\n",
      "\n",
      "Sorting because non-concatenation axis is not aligned. A future version\n",
      "of pandas will change to not sort by default.\n",
      "\n",
      "To accept the future behavior, pass 'sort=True'.\n",
      "\n",
      "To retain the current behavior and silence the warning, pass sort=False\n",
      "\n",
      "\n"
     ]
    },
    {
     "data": {
      "text/html": [
       "<iframe id=\"igraph\" scrolling=\"no\" style=\"border:none;\" seamless=\"seamless\" src=\"https://plot.ly/~lauraraynes/16.embed\" height=\"450px\" width=\"900px\"></iframe>"
      ],
      "text/plain": [
       "<plotly.tools.PlotlyDisplay object>"
      ]
     },
     "execution_count": 72,
     "metadata": {},
     "output_type": "execute_result"
    }
   ],
   "source": [
    "colorscale = [\"00E53D\",\"00E219\",\"09DF00\",\"2BDD00\",\"4DDA00\",\"6DD800\",\"8DD500\",\"ACD300\",\\\n",
    "              \"CBD000\",\"CEB300\",\"CB9200\",\"C97100\",\"C65000\",\"C43100\",\"C11200\",\"BF000A\"]    \n",
    "    \n",
    "endpts = list(np.linspace(0, 0.86364, len(colorscale) - 1))\n",
    "fips = south[\"FIPS\"]\n",
    "values = south[\"rent_gt_40\"]\n",
    "scope = [\"Delaware\", \"District of Columbia\", \"Florida\", \"Georgia\", \"Maryland\", \"North Carolina\", \\\n",
    "         \"South Carolina\", \"Virginia\", \"West Virginia\", \"Alabama\", \"Kentucky\", \"Mississippi\", \"Tennessee\", \\\n",
    "         \"Arkansas\", \"Louisiana\", \"Oklahoma\", \"Texas\"]\n",
    "\n",
    "fig = ff.create_choropleth(fips=fips, values=values, binning_endpoints=endpts, scope=scope,\n",
    "                           colorscale=colorscale, county_outline={'color': 'rgb(255,255,255)', 'width': 0.25})\n",
    "py.iplot(fig, filename='south')"
   ]
  },
  {
   "cell_type": "markdown",
   "metadata": {},
   "source": [
    "# West"
   ]
  },
  {
   "cell_type": "code",
   "execution_count": 75,
   "metadata": {},
   "outputs": [
    {
     "name": "stderr",
     "output_type": "stream",
     "text": [
      "C:\\Users\\rayne\\Anaconda3\\lib\\site-packages\\pandas\\core\\frame.py:6201: FutureWarning:\n",
      "\n",
      "Sorting because non-concatenation axis is not aligned. A future version\n",
      "of pandas will change to not sort by default.\n",
      "\n",
      "To accept the future behavior, pass 'sort=True'.\n",
      "\n",
      "To retain the current behavior and silence the warning, pass sort=False\n",
      "\n",
      "\n"
     ]
    },
    {
     "data": {
      "text/html": [
       "<iframe id=\"igraph\" scrolling=\"no\" style=\"border:none;\" seamless=\"seamless\" src=\"https://plot.ly/~lauraraynes/18.embed\" height=\"450px\" width=\"900px\"></iframe>"
      ],
      "text/plain": [
       "<plotly.tools.PlotlyDisplay object>"
      ]
     },
     "execution_count": 75,
     "metadata": {},
     "output_type": "execute_result"
    }
   ],
   "source": [
    "colorscale = [\"00E53D\",\"00E219\",\"09DF00\",\"2BDD00\",\"4DDA00\",\"6DD800\",\"8DD500\",\"ACD300\",\\\n",
    "              \"CBD000\",\"CEB300\",\"CB9200\",\"C97100\",\"C65000\",\"C43100\",\"C11200\",\"BF000A\"]    \n",
    "    \n",
    "endpts = list(np.linspace(0, 0.86364, len(colorscale) - 1))\n",
    "fips = west[\"FIPS\"]\n",
    "values = west[\"rent_gt_40\"]\n",
    "scope = [\"Colorado\", \"Idaho\", \"Montana\", \"Nevada\", \"New Mexico\", \"Utah\", \"Wyoming\", \"Alaska\",\\\n",
    "         \"California\", \"Hawaii\", \"Oregon\", \"Washington\"]\n",
    "\n",
    "fig = ff.create_choropleth(fips=fips, values=values, binning_endpoints=endpts, scope=scope,\n",
    "                           colorscale=colorscale, county_outline={'color': 'rgb(255,255,255)', 'width': 0.25})\n",
    "py.iplot(fig, filename='west')"
   ]
  },
  {
   "cell_type": "code",
   "execution_count": null,
   "metadata": {},
   "outputs": [],
   "source": [
    "Territor"
   ]
  },
  {
   "cell_type": "code",
   "execution_count": null,
   "metadata": {},
   "outputs": [],
   "source": []
  },
  {
   "cell_type": "code",
   "execution_count": 12,
   "metadata": {},
   "outputs": [
    {
     "name": "stderr",
     "output_type": "stream",
     "text": [
      "C:\\Users\\rayne\\Anaconda3\\lib\\site-packages\\pandas\\core\\frame.py:6201: FutureWarning:\n",
      "\n",
      "Sorting because non-concatenation axis is not aligned. A future version\n",
      "of pandas will change to not sort by default.\n",
      "\n",
      "To accept the future behavior, pass 'sort=True'.\n",
      "\n",
      "To retain the current behavior and silence the warning, pass sort=False\n",
      "\n",
      "\n"
     ]
    },
    {
     "ename": "PlotlyError",
     "evalue": "Invalid 'figure_or_data' argument. Plotly will not be able to properly parse the resulting JSON. If you want to send this 'figure_or_data' to Plotly anyway (not recommended), you can set 'validate=False' as a plot option.\nHere's why you're seeing this error:\n\n'sort' is not allowed in 'layout'\n\nPath To Error: ['layout']['sort']\n\nValid attributes for 'layout' at path ['layout'] under parents ['figure']:\n\n    ['angularaxis', 'annotations', 'autosize', 'bargap', 'bargroupgap',\n    'barmode', 'barnorm', 'boxgap', 'boxgroupgap', 'boxmode', 'calendar',\n    'colorway', 'datarevision', 'direction', 'dragmode', 'font', 'geo',\n    'grid', 'height', 'hiddenlabels', 'hiddenlabelssrc', 'hidesources',\n    'hoverdistance', 'hoverlabel', 'hovermode', 'images', 'legend',\n    'mapbox', 'margin', 'orientation', 'paper_bgcolor', 'plot_bgcolor',\n    'polar', 'radialaxis', 'scene', 'selectdirection', 'separators',\n    'shapes', 'showlegend', 'sliders', 'spikedistance', 'ternary', 'title',\n    'titlefont', 'updatemenus', 'violingap', 'violingroupgap',\n    'violinmode', 'width', 'xaxis', 'yaxis']\n\nRun `<layout-object>.help('attribute')` on any of the above.\n'<layout-object>' is the object at ['layout']",
     "output_type": "error",
     "traceback": [
      "\u001b[1;31m---------------------------------------------------------------------------\u001b[0m",
      "\u001b[1;31mPlotlyDictKeyError\u001b[0m                        Traceback (most recent call last)",
      "\u001b[1;32m~\\Anaconda3\\lib\\site-packages\\plotly\\tools.py\u001b[0m in \u001b[0;36mreturn_figure_from_figure_or_data\u001b[1;34m(figure_or_data, validate_figure)\u001b[0m\n\u001b[0;32m   1459\u001b[0m         \u001b[1;32mtry\u001b[0m\u001b[1;33m:\u001b[0m\u001b[1;33m\u001b[0m\u001b[0m\n\u001b[1;32m-> 1460\u001b[1;33m             \u001b[0mgraph_objs\u001b[0m\u001b[1;33m.\u001b[0m\u001b[0mFigure\u001b[0m\u001b[1;33m(\u001b[0m\u001b[0mfigure\u001b[0m\u001b[1;33m)\u001b[0m\u001b[1;33m\u001b[0m\u001b[0m\n\u001b[0m\u001b[0;32m   1461\u001b[0m         \u001b[1;32mexcept\u001b[0m \u001b[0mexceptions\u001b[0m\u001b[1;33m.\u001b[0m\u001b[0mPlotlyError\u001b[0m \u001b[1;32mas\u001b[0m \u001b[0merr\u001b[0m\u001b[1;33m:\u001b[0m\u001b[1;33m\u001b[0m\u001b[0m\n",
      "\u001b[1;32m~\\Anaconda3\\lib\\site-packages\\plotly\\graph_objs\\graph_objs.py\u001b[0m in \u001b[0;36m__init__\u001b[1;34m(self, *args, **kwargs)\u001b[0m\n\u001b[0;32m   1174\u001b[0m     \u001b[1;32mdef\u001b[0m \u001b[0m__init__\u001b[0m\u001b[1;33m(\u001b[0m\u001b[0mself\u001b[0m\u001b[1;33m,\u001b[0m \u001b[1;33m*\u001b[0m\u001b[0margs\u001b[0m\u001b[1;33m,\u001b[0m \u001b[1;33m**\u001b[0m\u001b[0mkwargs\u001b[0m\u001b[1;33m)\u001b[0m\u001b[1;33m:\u001b[0m\u001b[1;33m\u001b[0m\u001b[0m\n\u001b[1;32m-> 1175\u001b[1;33m         \u001b[0msuper\u001b[0m\u001b[1;33m(\u001b[0m\u001b[0mFigure\u001b[0m\u001b[1;33m,\u001b[0m \u001b[0mself\u001b[0m\u001b[1;33m)\u001b[0m\u001b[1;33m.\u001b[0m\u001b[0m__init__\u001b[0m\u001b[1;33m(\u001b[0m\u001b[1;33m*\u001b[0m\u001b[0margs\u001b[0m\u001b[1;33m,\u001b[0m \u001b[1;33m**\u001b[0m\u001b[0mkwargs\u001b[0m\u001b[1;33m)\u001b[0m\u001b[1;33m\u001b[0m\u001b[0m\n\u001b[0m\u001b[0;32m   1176\u001b[0m         \u001b[1;32mif\u001b[0m \u001b[1;34m'data'\u001b[0m \u001b[1;32mnot\u001b[0m \u001b[1;32min\u001b[0m \u001b[0mself\u001b[0m\u001b[1;33m:\u001b[0m\u001b[1;33m\u001b[0m\u001b[0m\n",
      "\u001b[1;32m~\\Anaconda3\\lib\\site-packages\\plotly\\graph_objs\\graph_objs.py\u001b[0m in \u001b[0;36m__init__\u001b[1;34m(self, *args, **kwargs)\u001b[0m\n\u001b[0;32m    376\u001b[0m         \u001b[1;32mfor\u001b[0m \u001b[0mkey\u001b[0m\u001b[1;33m,\u001b[0m \u001b[0mval\u001b[0m \u001b[1;32min\u001b[0m \u001b[0md\u001b[0m\u001b[1;33m.\u001b[0m\u001b[0mitems\u001b[0m\u001b[1;33m(\u001b[0m\u001b[1;33m)\u001b[0m\u001b[1;33m:\u001b[0m\u001b[1;33m\u001b[0m\u001b[0m\n\u001b[1;32m--> 377\u001b[1;33m             \u001b[0mself\u001b[0m\u001b[1;33m.\u001b[0m\u001b[0m__setitem__\u001b[0m\u001b[1;33m(\u001b[0m\u001b[0mkey\u001b[0m\u001b[1;33m,\u001b[0m \u001b[0mval\u001b[0m\u001b[1;33m,\u001b[0m \u001b[0m_raise\u001b[0m\u001b[1;33m=\u001b[0m\u001b[0m_raise\u001b[0m\u001b[1;33m)\u001b[0m\u001b[1;33m\u001b[0m\u001b[0m\n\u001b[0m\u001b[0;32m    378\u001b[0m \u001b[1;33m\u001b[0m\u001b[0m\n",
      "\u001b[1;32m~\\Anaconda3\\lib\\site-packages\\plotly\\graph_objs\\graph_objs.py\u001b[0m in \u001b[0;36m__setitem__\u001b[1;34m(self, key, value, _raise)\u001b[0m\n\u001b[0;32m    431\u001b[0m         \u001b[1;32mif\u001b[0m \u001b[0mself\u001b[0m\u001b[1;33m.\u001b[0m\u001b[0m_get_attribute_role\u001b[0m\u001b[1;33m(\u001b[0m\u001b[0mkey\u001b[0m\u001b[1;33m)\u001b[0m \u001b[1;33m==\u001b[0m \u001b[1;34m'object'\u001b[0m\u001b[1;33m:\u001b[0m\u001b[1;33m\u001b[0m\u001b[0m\n\u001b[1;32m--> 432\u001b[1;33m             \u001b[0mvalue\u001b[0m \u001b[1;33m=\u001b[0m \u001b[0mself\u001b[0m\u001b[1;33m.\u001b[0m\u001b[0m_value_to_graph_object\u001b[0m\u001b[1;33m(\u001b[0m\u001b[0mkey\u001b[0m\u001b[1;33m,\u001b[0m \u001b[0mvalue\u001b[0m\u001b[1;33m,\u001b[0m \u001b[0m_raise\u001b[0m\u001b[1;33m=\u001b[0m\u001b[0m_raise\u001b[0m\u001b[1;33m)\u001b[0m\u001b[1;33m\u001b[0m\u001b[0m\n\u001b[0m\u001b[0;32m    433\u001b[0m             \u001b[1;32mif\u001b[0m \u001b[1;32mnot\u001b[0m \u001b[0misinstance\u001b[0m\u001b[1;33m(\u001b[0m\u001b[0mvalue\u001b[0m\u001b[1;33m,\u001b[0m \u001b[1;33m(\u001b[0m\u001b[0mPlotlyDict\u001b[0m\u001b[1;33m,\u001b[0m \u001b[0mPlotlyList\u001b[0m\u001b[1;33m)\u001b[0m\u001b[1;33m)\u001b[0m\u001b[1;33m:\u001b[0m\u001b[1;33m\u001b[0m\u001b[0m\n",
      "\u001b[1;32m~\\Anaconda3\\lib\\site-packages\\plotly\\graph_objs\\graph_objs.py\u001b[0m in \u001b[0;36m_value_to_graph_object\u001b[1;34m(self, key, value, _raise)\u001b[0m\n\u001b[0;32m    542\u001b[0m         return GraphObjectFactory.create(key, value, _raise=_raise,\n\u001b[1;32m--> 543\u001b[1;33m                                          _parent=self, _parent_key=key)\n\u001b[0m\u001b[0;32m    544\u001b[0m \u001b[1;33m\u001b[0m\u001b[0m\n",
      "\u001b[1;32m~\\Anaconda3\\lib\\site-packages\\plotly\\graph_objs\\graph_objs.py\u001b[0m in \u001b[0;36mcreate\u001b[1;34m(object_name, *args, **kwargs)\u001b[0m\n\u001b[0;32m    798\u001b[0m             \u001b[1;32melse\u001b[0m\u001b[1;33m:\u001b[0m\u001b[1;33m\u001b[0m\u001b[0m\n\u001b[1;32m--> 799\u001b[1;33m                 \u001b[1;32mreturn\u001b[0m \u001b[0mPlotlyDict\u001b[0m\u001b[1;33m(\u001b[0m\u001b[1;33m*\u001b[0m\u001b[0margs\u001b[0m\u001b[1;33m,\u001b[0m \u001b[1;33m**\u001b[0m\u001b[0mkwargs\u001b[0m\u001b[1;33m)\u001b[0m\u001b[1;33m\u001b[0m\u001b[0m\n\u001b[0m\u001b[0;32m    800\u001b[0m \u001b[1;33m\u001b[0m\u001b[0m\n",
      "\u001b[1;32m~\\Anaconda3\\lib\\site-packages\\plotly\\graph_objs\\graph_objs.py\u001b[0m in \u001b[0;36m__init__\u001b[1;34m(self, *args, **kwargs)\u001b[0m\n\u001b[0;32m    376\u001b[0m         \u001b[1;32mfor\u001b[0m \u001b[0mkey\u001b[0m\u001b[1;33m,\u001b[0m \u001b[0mval\u001b[0m \u001b[1;32min\u001b[0m \u001b[0md\u001b[0m\u001b[1;33m.\u001b[0m\u001b[0mitems\u001b[0m\u001b[1;33m(\u001b[0m\u001b[1;33m)\u001b[0m\u001b[1;33m:\u001b[0m\u001b[1;33m\u001b[0m\u001b[0m\n\u001b[1;32m--> 377\u001b[1;33m             \u001b[0mself\u001b[0m\u001b[1;33m.\u001b[0m\u001b[0m__setitem__\u001b[0m\u001b[1;33m(\u001b[0m\u001b[0mkey\u001b[0m\u001b[1;33m,\u001b[0m \u001b[0mval\u001b[0m\u001b[1;33m,\u001b[0m \u001b[0m_raise\u001b[0m\u001b[1;33m=\u001b[0m\u001b[0m_raise\u001b[0m\u001b[1;33m)\u001b[0m\u001b[1;33m\u001b[0m\u001b[0m\n\u001b[0m\u001b[0;32m    378\u001b[0m \u001b[1;33m\u001b[0m\u001b[0m\n",
      "\u001b[1;32m~\\Anaconda3\\lib\\site-packages\\plotly\\graph_objs\\graph_objs.py\u001b[0m in \u001b[0;36m__setitem__\u001b[1;34m(self, key, value, _raise)\u001b[0m\n\u001b[0;32m    427\u001b[0m                     \u001b[0mpath\u001b[0m \u001b[1;33m=\u001b[0m \u001b[0mself\u001b[0m\u001b[1;33m.\u001b[0m\u001b[0m_get_path\u001b[0m\u001b[1;33m(\u001b[0m\u001b[1;33m)\u001b[0m \u001b[1;33m+\u001b[0m \u001b[1;33m(\u001b[0m\u001b[0mkey\u001b[0m\u001b[1;33m,\u001b[0m \u001b[1;33m)\u001b[0m\u001b[1;33m\u001b[0m\u001b[0m\n\u001b[1;32m--> 428\u001b[1;33m                     \u001b[1;32mraise\u001b[0m \u001b[0mexceptions\u001b[0m\u001b[1;33m.\u001b[0m\u001b[0mPlotlyDictKeyError\u001b[0m\u001b[1;33m(\u001b[0m\u001b[0mself\u001b[0m\u001b[1;33m,\u001b[0m \u001b[0mpath\u001b[0m\u001b[1;33m)\u001b[0m\u001b[1;33m\u001b[0m\u001b[0m\n\u001b[0m\u001b[0;32m    429\u001b[0m                 \u001b[1;32mreturn\u001b[0m\u001b[1;33m\u001b[0m\u001b[0m\n",
      "\u001b[1;31mPlotlyDictKeyError\u001b[0m: 'sort' is not allowed in 'layout'\n\nPath To Error: ['layout']['sort']\n\nValid attributes for 'layout' at path ['layout'] under parents ['figure']:\n\n    ['angularaxis', 'annotations', 'autosize', 'bargap', 'bargroupgap',\n    'barmode', 'barnorm', 'boxgap', 'boxgroupgap', 'boxmode', 'calendar',\n    'colorway', 'datarevision', 'direction', 'dragmode', 'font', 'geo',\n    'grid', 'height', 'hiddenlabels', 'hiddenlabelssrc', 'hidesources',\n    'hoverdistance', 'hoverlabel', 'hovermode', 'images', 'legend',\n    'mapbox', 'margin', 'orientation', 'paper_bgcolor', 'plot_bgcolor',\n    'polar', 'radialaxis', 'scene', 'selectdirection', 'separators',\n    'shapes', 'showlegend', 'sliders', 'spikedistance', 'ternary', 'title',\n    'titlefont', 'updatemenus', 'violingap', 'violingroupgap',\n    'violinmode', 'width', 'xaxis', 'yaxis']\n\nRun `<layout-object>.help('attribute')` on any of the above.\n'<layout-object>' is the object at ['layout']",
      "\nDuring handling of the above exception, another exception occurred:\n",
      "\u001b[1;31mPlotlyError\u001b[0m                               Traceback (most recent call last)",
      "\u001b[1;32m<ipython-input-12-7f4055bcfffe>\u001b[0m in \u001b[0;36m<module>\u001b[1;34m()\u001b[0m\n\u001b[0;32m     14\u001b[0m     legend_title='Percentage of Population')\n\u001b[0;32m     15\u001b[0m \u001b[1;33m\u001b[0m\u001b[0m\n\u001b[1;32m---> 16\u001b[1;33m \u001b[0mpy\u001b[0m\u001b[1;33m.\u001b[0m\u001b[0miplot\u001b[0m\u001b[1;33m(\u001b[0m\u001b[0mfig\u001b[0m\u001b[1;33m,\u001b[0m \u001b[0mfilename\u001b[0m\u001b[1;33m=\u001b[0m\u001b[1;34m'choropleth_full_usa'\u001b[0m\u001b[1;33m)\u001b[0m\u001b[1;33m\u001b[0m\u001b[0m\n\u001b[0m",
      "\u001b[1;32m~\\Anaconda3\\lib\\site-packages\\plotly\\plotly\\plotly.py\u001b[0m in \u001b[0;36miplot\u001b[1;34m(figure_or_data, **plot_options)\u001b[0m\n\u001b[0;32m    138\u001b[0m     \u001b[1;32mif\u001b[0m \u001b[1;34m'auto_open'\u001b[0m \u001b[1;32mnot\u001b[0m \u001b[1;32min\u001b[0m \u001b[0mplot_options\u001b[0m\u001b[1;33m:\u001b[0m\u001b[1;33m\u001b[0m\u001b[0m\n\u001b[0;32m    139\u001b[0m         \u001b[0mplot_options\u001b[0m\u001b[1;33m[\u001b[0m\u001b[1;34m'auto_open'\u001b[0m\u001b[1;33m]\u001b[0m \u001b[1;33m=\u001b[0m \u001b[1;32mFalse\u001b[0m\u001b[1;33m\u001b[0m\u001b[0m\n\u001b[1;32m--> 140\u001b[1;33m     \u001b[0murl\u001b[0m \u001b[1;33m=\u001b[0m \u001b[0mplot\u001b[0m\u001b[1;33m(\u001b[0m\u001b[0mfigure_or_data\u001b[0m\u001b[1;33m,\u001b[0m \u001b[1;33m**\u001b[0m\u001b[0mplot_options\u001b[0m\u001b[1;33m)\u001b[0m\u001b[1;33m\u001b[0m\u001b[0m\n\u001b[0m\u001b[0;32m    141\u001b[0m \u001b[1;33m\u001b[0m\u001b[0m\n\u001b[0;32m    142\u001b[0m     \u001b[1;32mif\u001b[0m \u001b[0misinstance\u001b[0m\u001b[1;33m(\u001b[0m\u001b[0mfigure_or_data\u001b[0m\u001b[1;33m,\u001b[0m \u001b[0mdict\u001b[0m\u001b[1;33m)\u001b[0m\u001b[1;33m:\u001b[0m\u001b[1;33m\u001b[0m\u001b[0m\n",
      "\u001b[1;32m~\\Anaconda3\\lib\\site-packages\\plotly\\plotly\\plotly.py\u001b[0m in \u001b[0;36mplot\u001b[1;34m(figure_or_data, validate, **plot_options)\u001b[0m\n\u001b[0;32m    199\u001b[0m \u001b[1;33m\u001b[0m\u001b[0m\n\u001b[0;32m    200\u001b[0m     \"\"\"\n\u001b[1;32m--> 201\u001b[1;33m     \u001b[0mfigure\u001b[0m \u001b[1;33m=\u001b[0m \u001b[0mtools\u001b[0m\u001b[1;33m.\u001b[0m\u001b[0mreturn_figure_from_figure_or_data\u001b[0m\u001b[1;33m(\u001b[0m\u001b[0mfigure_or_data\u001b[0m\u001b[1;33m,\u001b[0m \u001b[0mvalidate\u001b[0m\u001b[1;33m)\u001b[0m\u001b[1;33m\u001b[0m\u001b[0m\n\u001b[0m\u001b[0;32m    202\u001b[0m     \u001b[1;32mfor\u001b[0m \u001b[0mentry\u001b[0m \u001b[1;32min\u001b[0m \u001b[0mfigure\u001b[0m\u001b[1;33m[\u001b[0m\u001b[1;34m'data'\u001b[0m\u001b[1;33m]\u001b[0m\u001b[1;33m:\u001b[0m\u001b[1;33m\u001b[0m\u001b[0m\n\u001b[0;32m    203\u001b[0m         \u001b[1;32mif\u001b[0m \u001b[1;33m(\u001b[0m\u001b[1;34m'type'\u001b[0m \u001b[1;32min\u001b[0m \u001b[0mentry\u001b[0m\u001b[1;33m)\u001b[0m \u001b[1;32mand\u001b[0m \u001b[1;33m(\u001b[0m\u001b[0mentry\u001b[0m\u001b[1;33m[\u001b[0m\u001b[1;34m'type'\u001b[0m\u001b[1;33m]\u001b[0m \u001b[1;33m==\u001b[0m \u001b[1;34m'scattergl'\u001b[0m\u001b[1;33m)\u001b[0m\u001b[1;33m:\u001b[0m\u001b[1;33m\u001b[0m\u001b[0m\n",
      "\u001b[1;32m~\\Anaconda3\\lib\\site-packages\\plotly\\tools.py\u001b[0m in \u001b[0;36mreturn_figure_from_figure_or_data\u001b[1;34m(figure_or_data, validate_figure)\u001b[0m\n\u001b[0;32m   1468\u001b[0m                                          \u001b[1;34m\"plot option.\\nHere's why you're \"\u001b[0m\u001b[1;33m\u001b[0m\u001b[0m\n\u001b[0;32m   1469\u001b[0m                                          \u001b[1;34m\"seeing this error:\\n\\n{0}\"\u001b[0m\u001b[1;33m\u001b[0m\u001b[0m\n\u001b[1;32m-> 1470\u001b[1;33m                                          \"\".format(err))\n\u001b[0m\u001b[0;32m   1471\u001b[0m         \u001b[1;32mif\u001b[0m \u001b[1;32mnot\u001b[0m \u001b[0mfigure\u001b[0m\u001b[1;33m[\u001b[0m\u001b[1;34m'data'\u001b[0m\u001b[1;33m]\u001b[0m\u001b[1;33m:\u001b[0m\u001b[1;33m\u001b[0m\u001b[0m\n\u001b[0;32m   1472\u001b[0m             raise exceptions.PlotlyEmptyDataError(\n",
      "\u001b[1;31mPlotlyError\u001b[0m: Invalid 'figure_or_data' argument. Plotly will not be able to properly parse the resulting JSON. If you want to send this 'figure_or_data' to Plotly anyway (not recommended), you can set 'validate=False' as a plot option.\nHere's why you're seeing this error:\n\n'sort' is not allowed in 'layout'\n\nPath To Error: ['layout']['sort']\n\nValid attributes for 'layout' at path ['layout'] under parents ['figure']:\n\n    ['angularaxis', 'annotations', 'autosize', 'bargap', 'bargroupgap',\n    'barmode', 'barnorm', 'boxgap', 'boxgroupgap', 'boxmode', 'calendar',\n    'colorway', 'datarevision', 'direction', 'dragmode', 'font', 'geo',\n    'grid', 'height', 'hiddenlabels', 'hiddenlabelssrc', 'hidesources',\n    'hoverdistance', 'hoverlabel', 'hovermode', 'images', 'legend',\n    'mapbox', 'margin', 'orientation', 'paper_bgcolor', 'plot_bgcolor',\n    'polar', 'radialaxis', 'scene', 'selectdirection', 'separators',\n    'shapes', 'showlegend', 'sliders', 'spikedistance', 'ternary', 'title',\n    'titlefont', 'updatemenus', 'violingap', 'violingroupgap',\n    'violinmode', 'width', 'xaxis', 'yaxis']\n\nRun `<layout-object>.help('attribute')` on any of the above.\n'<layout-object>' is the object at ['layout']"
     ]
    }
   ],
   "source": [
    "colorscale = [\"00E53D\",\"00E219\",\"09DF00\",\"2BDD00\",\"4DDA00\",\"6DD800\",\"8DD500\",\"ACD300\",\\\n",
    "              \"CBD000\",\"CEB300\",\"CB9200\",\"C97100\",\"C65000\",\"C43100\",\"C11200\",\"BF000A\"]    \n",
    "    \n",
    "endpts = list(np.linspace(0, 0.86364, len(colorscale) - 1))\n",
    "fips = merge_table[\"FIPS\"]\n",
    "values = merge_table[\"rent_gt_40\"]\n",
    "\n",
    "fig = ff.create_choropleth(\n",
    "    fips=fips, values=values, scope=['usa'],\n",
    "    binning_endpoints=endpts, colorscale=colorscale,\n",
    "    show_state_data=False, \n",
    "    show_hover=True, centroid_marker={'opacity': 0},\n",
    "    county_outline={'color': 'rgb(255,255,255)', 'width': 0.5},\n",
    "    asp=2.9, title='Percentage of Population whose Rent Exceeds 40% of Income',\n",
    "    legend_title='Percentage of Population')\n",
    "\n",
    "py.iplot(fig, filename='choropleth_full_usa')"
   ]
  },
  {
   "cell_type": "code",
   "execution_count": 49,
   "metadata": {},
   "outputs": [
    {
     "data": {
      "text/html": [
       "<div>\n",
       "<style scoped>\n",
       "    .dataframe tbody tr th:only-of-type {\n",
       "        vertical-align: middle;\n",
       "    }\n",
       "\n",
       "    .dataframe tbody tr th {\n",
       "        vertical-align: top;\n",
       "    }\n",
       "\n",
       "    .dataframe thead th {\n",
       "        text-align: right;\n",
       "    }\n",
       "</style>\n",
       "<table border=\"1\" class=\"dataframe\">\n",
       "  <thead>\n",
       "    <tr style=\"text-align: right;\">\n",
       "      <th></th>\n",
       "      <th>FIPS</th>\n",
       "      <th>rent_gt_40</th>\n",
       "    </tr>\n",
       "  </thead>\n",
       "  <tbody>\n",
       "    <tr>\n",
       "      <th>0</th>\n",
       "      <td>26003</td>\n",
       "      <td>0.86364</td>\n",
       "    </tr>\n",
       "    <tr>\n",
       "      <th>1</th>\n",
       "      <td>51007</td>\n",
       "      <td>0.82320</td>\n",
       "    </tr>\n",
       "    <tr>\n",
       "      <th>2</th>\n",
       "      <td>72019</td>\n",
       "      <td>0.79675</td>\n",
       "    </tr>\n",
       "    <tr>\n",
       "      <th>3</th>\n",
       "      <td>51750</td>\n",
       "      <td>0.78646</td>\n",
       "    </tr>\n",
       "    <tr>\n",
       "      <th>4</th>\n",
       "      <td>28111</td>\n",
       "      <td>0.77647</td>\n",
       "    </tr>\n",
       "  </tbody>\n",
       "</table>\n",
       "</div>"
      ],
      "text/plain": [
       "    FIPS  rent_gt_40\n",
       "0  26003     0.86364\n",
       "1  51007     0.82320\n",
       "2  72019     0.79675\n",
       "3  51750     0.78646\n",
       "4  28111     0.77647"
      ]
     },
     "execution_count": 49,
     "metadata": {},
     "output_type": "execute_result"
    }
   ],
   "source": [
    "hundred = mean_rent_40.sort_values([\"rent_gt_40\"], ascending = False).head(100)\n",
    "top_100 = hundred.reset_index(drop = True)\n",
    "top_100.head()"
   ]
  },
  {
   "cell_type": "code",
   "execution_count": 50,
   "metadata": {},
   "outputs": [
    {
     "name": "stdout",
     "output_type": "stream",
     "text": [
      "1\n",
      "10\n",
      "63\n",
      "10\n",
      "16\n"
     ]
    }
   ],
   "source": [
    "northeast = []\n",
    "midwest = []\n",
    "south = []\n",
    "west = []\n",
    "territory = []\n",
    "\n",
    "index = 0\n",
    "\n",
    "for value in top_100[\"FIPS\"]:\n",
    "    if value[:2] in (\"09\", \"23\", \"25\", \"33\", \"44\", \"50\", \"34\", \"36\", \"42\"):\n",
    "        northeast.append(top_100.loc[index, \"rent_gt_40\"])\n",
    "    elif value[:2] in (\"17\", \"18\", \"26\", \"39\", \"55\", \"19\", \"20\", \"27\", \"29\", \"31\", \"38\", \"46\"):\n",
    "        midwest.append(top_100.loc[index, \"rent_gt_40\"])\n",
    "    elif value[:2] in (\"10\", \"11\", \"12\", \"13\", \"24\", \"37\", \"45\", \"51\", \"54\", \"01\", \"21\", \"28\", \"47\", \"05\", \"22\", \"40\", \"48\"):\n",
    "        south.append(top_100.loc[index, \"rent_gt_40\"])\n",
    "    elif value[:2] in (\"08\", \"16\", \"30\", \"32\", \"35\", \"49\", \"56\", \"02\", \"06\", \"15\", \"41\", \"53\"):\n",
    "        west.append(top_100.loc[index, \"rent_gt_40\"])\n",
    "    else:\n",
    "        territory.append(top_100.loc[index, \"rent_gt_40\"])   \n",
    "\n",
    "    index += 1\n",
    "    \n",
    "print(len(northeast))\n",
    "print(len(midwest))\n",
    "print(len(south))\n",
    "print(len(west))\n",
    "print(len(territory))\n",
    "\n"
   ]
  },
  {
   "cell_type": "code",
   "execution_count": null,
   "metadata": {},
   "outputs": [],
   "source": []
  }
 ],
 "metadata": {
  "kernelspec": {
   "display_name": "Python 3",
   "language": "python",
   "name": "python3"
  },
  "language_info": {
   "codemirror_mode": {
    "name": "ipython",
    "version": 3
   },
   "file_extension": ".py",
   "mimetype": "text/x-python",
   "name": "python",
   "nbconvert_exporter": "python",
   "pygments_lexer": "ipython3",
   "version": "3.6.5"
  }
 },
 "nbformat": 4,
 "nbformat_minor": 2
}
