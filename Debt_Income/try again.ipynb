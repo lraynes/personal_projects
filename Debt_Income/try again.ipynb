{
 "cells": [
  {
   "cell_type": "code",
   "execution_count": 23,
   "metadata": {},
   "outputs": [],
   "source": [
    "import pandas as pd\n",
    "import numpy as np\n",
    "import matplotlib.pyplot as plt\n",
    "import plotly\n",
    "plotly.tools.set_credentials_file(username='lauraraynes', api_key='Bm8XEYfXMQzXyHxVptSS')\n",
    "import plotly.plotly as py\n",
    "import plotly.figure_factory as ff\n",
    "\n",
    "data = pd.read_csv(\"real_estate_db.csv\", encoding='ISO-8859-1')\n",
    "all_fips = pd.read_csv(\"all-geocodes-v2016.csv\", encoding='ISO-8859-1')"
   ]
  },
  {
   "cell_type": "code",
   "execution_count": 17,
   "metadata": {},
   "outputs": [
    {
     "data": {
      "text/html": [
       "<div>\n",
       "<style scoped>\n",
       "    .dataframe tbody tr th:only-of-type {\n",
       "        vertical-align: middle;\n",
       "    }\n",
       "\n",
       "    .dataframe tbody tr th {\n",
       "        vertical-align: top;\n",
       "    }\n",
       "\n",
       "    .dataframe thead th {\n",
       "        text-align: right;\n",
       "    }\n",
       "</style>\n",
       "<table border=\"1\" class=\"dataframe\">\n",
       "  <thead>\n",
       "    <tr style=\"text-align: right;\">\n",
       "      <th></th>\n",
       "      <th>rent_gt_40</th>\n",
       "      <th>STATEID</th>\n",
       "      <th>COUNTYID</th>\n",
       "      <th>state</th>\n",
       "    </tr>\n",
       "  </thead>\n",
       "  <tbody>\n",
       "    <tr>\n",
       "      <th>0</th>\n",
       "      <td>0.15135</td>\n",
       "      <td>2</td>\n",
       "      <td>16</td>\n",
       "      <td>Alaska</td>\n",
       "    </tr>\n",
       "    <tr>\n",
       "      <th>1</th>\n",
       "      <td>0.20455</td>\n",
       "      <td>2</td>\n",
       "      <td>20</td>\n",
       "      <td>Alaska</td>\n",
       "    </tr>\n",
       "    <tr>\n",
       "      <th>2</th>\n",
       "      <td>0.54368</td>\n",
       "      <td>2</td>\n",
       "      <td>20</td>\n",
       "      <td>Alaska</td>\n",
       "    </tr>\n",
       "    <tr>\n",
       "      <th>3</th>\n",
       "      <td>0.27286</td>\n",
       "      <td>2</td>\n",
       "      <td>20</td>\n",
       "      <td>Alaska</td>\n",
       "    </tr>\n",
       "    <tr>\n",
       "      <th>4</th>\n",
       "      <td>0.24829</td>\n",
       "      <td>2</td>\n",
       "      <td>20</td>\n",
       "      <td>Alaska</td>\n",
       "    </tr>\n",
       "  </tbody>\n",
       "</table>\n",
       "</div>"
      ],
      "text/plain": [
       "   rent_gt_40  STATEID  COUNTYID   state\n",
       "0     0.15135        2        16  Alaska\n",
       "1     0.20455        2        20  Alaska\n",
       "2     0.54368        2        20  Alaska\n",
       "3     0.27286        2        20  Alaska\n",
       "4     0.24829        2        20  Alaska"
      ]
     },
     "execution_count": 17,
     "metadata": {},
     "output_type": "execute_result"
    }
   ],
   "source": [
    "rent_40_df = data[[\"rent_gt_40\", 'STATEID', \"COUNTYID\", \"state\"]]\n",
    "rent_40_df.head()"
   ]
  },
  {
   "cell_type": "code",
   "execution_count": 18,
   "metadata": {},
   "outputs": [],
   "source": [
    "rent_40_df.loc[:,\"STATEID\"] = rent_40_df[\"STATEID\"].map(\"{:02d}\".format)\n",
    "rent_40_df.loc[:,\"COUNTYID\"] = rent_40_df[\"COUNTYID\"].map(\"{:003d}\".format)"
   ]
  },
  {
   "cell_type": "code",
   "execution_count": 19,
   "metadata": {},
   "outputs": [
    {
     "data": {
      "text/html": [
       "<div>\n",
       "<style scoped>\n",
       "    .dataframe tbody tr th:only-of-type {\n",
       "        vertical-align: middle;\n",
       "    }\n",
       "\n",
       "    .dataframe tbody tr th {\n",
       "        vertical-align: top;\n",
       "    }\n",
       "\n",
       "    .dataframe thead th {\n",
       "        text-align: right;\n",
       "    }\n",
       "</style>\n",
       "<table border=\"1\" class=\"dataframe\">\n",
       "  <thead>\n",
       "    <tr style=\"text-align: right;\">\n",
       "      <th></th>\n",
       "      <th>rent_gt_40</th>\n",
       "      <th>STATEID</th>\n",
       "      <th>COUNTYID</th>\n",
       "      <th>state</th>\n",
       "    </tr>\n",
       "  </thead>\n",
       "  <tbody>\n",
       "    <tr>\n",
       "      <th>0</th>\n",
       "      <td>0.15135</td>\n",
       "      <td>02</td>\n",
       "      <td>016</td>\n",
       "      <td>Alaska</td>\n",
       "    </tr>\n",
       "    <tr>\n",
       "      <th>1</th>\n",
       "      <td>0.20455</td>\n",
       "      <td>02</td>\n",
       "      <td>020</td>\n",
       "      <td>Alaska</td>\n",
       "    </tr>\n",
       "    <tr>\n",
       "      <th>2</th>\n",
       "      <td>0.54368</td>\n",
       "      <td>02</td>\n",
       "      <td>020</td>\n",
       "      <td>Alaska</td>\n",
       "    </tr>\n",
       "    <tr>\n",
       "      <th>3</th>\n",
       "      <td>0.27286</td>\n",
       "      <td>02</td>\n",
       "      <td>020</td>\n",
       "      <td>Alaska</td>\n",
       "    </tr>\n",
       "    <tr>\n",
       "      <th>4</th>\n",
       "      <td>0.24829</td>\n",
       "      <td>02</td>\n",
       "      <td>020</td>\n",
       "      <td>Alaska</td>\n",
       "    </tr>\n",
       "  </tbody>\n",
       "</table>\n",
       "</div>"
      ],
      "text/plain": [
       "   rent_gt_40 STATEID COUNTYID   state\n",
       "0     0.15135      02      016  Alaska\n",
       "1     0.20455      02      020  Alaska\n",
       "2     0.54368      02      020  Alaska\n",
       "3     0.27286      02      020  Alaska\n",
       "4     0.24829      02      020  Alaska"
      ]
     },
     "execution_count": 19,
     "metadata": {},
     "output_type": "execute_result"
    }
   ],
   "source": [
    "rent_40_df.head()"
   ]
  },
  {
   "cell_type": "code",
   "execution_count": 20,
   "metadata": {},
   "outputs": [],
   "source": [
    "rent_40_df[\"FIPS\"] = rent_40_df[\"STATEID\"].map(str) + rent_40_df[\"COUNTYID\"].map(str)"
   ]
  },
  {
   "cell_type": "code",
   "execution_count": 21,
   "metadata": {},
   "outputs": [
    {
     "data": {
      "text/html": [
       "<div>\n",
       "<style scoped>\n",
       "    .dataframe tbody tr th:only-of-type {\n",
       "        vertical-align: middle;\n",
       "    }\n",
       "\n",
       "    .dataframe tbody tr th {\n",
       "        vertical-align: top;\n",
       "    }\n",
       "\n",
       "    .dataframe thead th {\n",
       "        text-align: right;\n",
       "    }\n",
       "</style>\n",
       "<table border=\"1\" class=\"dataframe\">\n",
       "  <thead>\n",
       "    <tr style=\"text-align: right;\">\n",
       "      <th></th>\n",
       "      <th>rent_gt_40</th>\n",
       "      <th>STATEID</th>\n",
       "      <th>COUNTYID</th>\n",
       "      <th>state</th>\n",
       "      <th>FIPS</th>\n",
       "    </tr>\n",
       "  </thead>\n",
       "  <tbody>\n",
       "    <tr>\n",
       "      <th>0</th>\n",
       "      <td>0.15135</td>\n",
       "      <td>02</td>\n",
       "      <td>016</td>\n",
       "      <td>Alaska</td>\n",
       "      <td>02016</td>\n",
       "    </tr>\n",
       "    <tr>\n",
       "      <th>1</th>\n",
       "      <td>0.20455</td>\n",
       "      <td>02</td>\n",
       "      <td>020</td>\n",
       "      <td>Alaska</td>\n",
       "      <td>02020</td>\n",
       "    </tr>\n",
       "    <tr>\n",
       "      <th>2</th>\n",
       "      <td>0.54368</td>\n",
       "      <td>02</td>\n",
       "      <td>020</td>\n",
       "      <td>Alaska</td>\n",
       "      <td>02020</td>\n",
       "    </tr>\n",
       "    <tr>\n",
       "      <th>3</th>\n",
       "      <td>0.27286</td>\n",
       "      <td>02</td>\n",
       "      <td>020</td>\n",
       "      <td>Alaska</td>\n",
       "      <td>02020</td>\n",
       "    </tr>\n",
       "    <tr>\n",
       "      <th>4</th>\n",
       "      <td>0.24829</td>\n",
       "      <td>02</td>\n",
       "      <td>020</td>\n",
       "      <td>Alaska</td>\n",
       "      <td>02020</td>\n",
       "    </tr>\n",
       "  </tbody>\n",
       "</table>\n",
       "</div>"
      ],
      "text/plain": [
       "   rent_gt_40 STATEID COUNTYID   state   FIPS\n",
       "0     0.15135      02      016  Alaska  02016\n",
       "1     0.20455      02      020  Alaska  02020\n",
       "2     0.54368      02      020  Alaska  02020\n",
       "3     0.27286      02      020  Alaska  02020\n",
       "4     0.24829      02      020  Alaska  02020"
      ]
     },
     "execution_count": 21,
     "metadata": {},
     "output_type": "execute_result"
    }
   ],
   "source": [
    "rent_40_clean = rent_40_df.dropna(how='any')\n",
    "rent_40_clean.head()"
   ]
  },
  {
   "cell_type": "code",
   "execution_count": 35,
   "metadata": {},
   "outputs": [
    {
     "name": "stdout",
     "output_type": "stream",
     "text": [
      "Maximum: 0.86364\n",
      "Median: 0.3095330769230769\n"
     ]
    },
    {
     "data": {
      "text/html": [
       "<div>\n",
       "<style scoped>\n",
       "    .dataframe tbody tr th:only-of-type {\n",
       "        vertical-align: middle;\n",
       "    }\n",
       "\n",
       "    .dataframe tbody tr th {\n",
       "        vertical-align: top;\n",
       "    }\n",
       "\n",
       "    .dataframe thead th {\n",
       "        text-align: right;\n",
       "    }\n",
       "</style>\n",
       "<table border=\"1\" class=\"dataframe\">\n",
       "  <thead>\n",
       "    <tr style=\"text-align: right;\">\n",
       "      <th></th>\n",
       "      <th>FIPS</th>\n",
       "      <th>rent_gt_40</th>\n",
       "    </tr>\n",
       "  </thead>\n",
       "  <tbody>\n",
       "    <tr>\n",
       "      <th>0</th>\n",
       "      <td>01001</td>\n",
       "      <td>0.348900</td>\n",
       "    </tr>\n",
       "    <tr>\n",
       "      <th>1</th>\n",
       "      <td>01003</td>\n",
       "      <td>0.312674</td>\n",
       "    </tr>\n",
       "    <tr>\n",
       "      <th>2</th>\n",
       "      <td>01005</td>\n",
       "      <td>0.386574</td>\n",
       "    </tr>\n",
       "    <tr>\n",
       "      <th>3</th>\n",
       "      <td>01007</td>\n",
       "      <td>0.254480</td>\n",
       "    </tr>\n",
       "    <tr>\n",
       "      <th>4</th>\n",
       "      <td>01009</td>\n",
       "      <td>0.361050</td>\n",
       "    </tr>\n",
       "  </tbody>\n",
       "</table>\n",
       "</div>"
      ],
      "text/plain": [
       "    FIPS  rent_gt_40\n",
       "0  01001    0.348900\n",
       "1  01003    0.312674\n",
       "2  01005    0.386574\n",
       "3  01007    0.254480\n",
       "4  01009    0.361050"
      ]
     },
     "execution_count": 35,
     "metadata": {},
     "output_type": "execute_result"
    }
   ],
   "source": [
    "grouped_data = rent_40_clean.groupby([\"FIPS\"])\n",
    "mean_rent_40 = grouped_data.mean().reset_index()\n",
    "print(\"Maximum: \" + str(mean_rent_40[\"rent_gt_40\"].max()))\n",
    "print(\"Median: \" + str(mean_rent_40[\"rent_gt_40\"].median()))\n",
    "mean_rent_40.head()"
   ]
  },
  {
   "cell_type": "code",
   "execution_count": 26,
   "metadata": {},
   "outputs": [],
   "source": [
    "#Add leading zeros\n",
    "all_fips.loc[:,\"State Code (FIPS)\"] = all_fips[\"State Code (FIPS)\"].map(\"{:02d}\".format)\n",
    "all_fips.loc[:,\"County Code (FIPS)\"] = all_fips[\"County Code (FIPS)\"].map(\"{:003d}\".format)"
   ]
  },
  {
   "cell_type": "code",
   "execution_count": 36,
   "metadata": {},
   "outputs": [
    {
     "data": {
      "text/html": [
       "<div>\n",
       "<style scoped>\n",
       "    .dataframe tbody tr th:only-of-type {\n",
       "        vertical-align: middle;\n",
       "    }\n",
       "\n",
       "    .dataframe tbody tr th {\n",
       "        vertical-align: top;\n",
       "    }\n",
       "\n",
       "    .dataframe thead th {\n",
       "        text-align: right;\n",
       "    }\n",
       "</style>\n",
       "<table border=\"1\" class=\"dataframe\">\n",
       "  <thead>\n",
       "    <tr style=\"text-align: right;\">\n",
       "      <th></th>\n",
       "      <th>Area Name (including legal/statistical area description)</th>\n",
       "      <th>FIPS</th>\n",
       "    </tr>\n",
       "  </thead>\n",
       "  <tbody>\n",
       "    <tr>\n",
       "      <th>0</th>\n",
       "      <td>Autauga County</td>\n",
       "      <td>01001</td>\n",
       "    </tr>\n",
       "    <tr>\n",
       "      <th>1</th>\n",
       "      <td>Baldwin County</td>\n",
       "      <td>01003</td>\n",
       "    </tr>\n",
       "    <tr>\n",
       "      <th>2</th>\n",
       "      <td>Barbour County</td>\n",
       "      <td>01005</td>\n",
       "    </tr>\n",
       "    <tr>\n",
       "      <th>3</th>\n",
       "      <td>Bibb County</td>\n",
       "      <td>01007</td>\n",
       "    </tr>\n",
       "    <tr>\n",
       "      <th>4</th>\n",
       "      <td>Blount County</td>\n",
       "      <td>01009</td>\n",
       "    </tr>\n",
       "  </tbody>\n",
       "</table>\n",
       "</div>"
      ],
      "text/plain": [
       "  Area Name (including legal/statistical area description)   FIPS\n",
       "0                                     Autauga County        01001\n",
       "1                                     Baldwin County        01003\n",
       "2                                     Barbour County        01005\n",
       "3                                        Bibb County        01007\n",
       "4                                      Blount County        01009"
      ]
     },
     "execution_count": 36,
     "metadata": {},
     "output_type": "execute_result"
    }
   ],
   "source": [
    "#Add column for full FIPS\n",
    "all_fips[\"FIPS\"] = all_fips[\"State Code (FIPS)\"].map(str) + all_fips[\"County Code (FIPS)\"].map(str)\n",
    "\n",
    "#Keep only counties\n",
    "county_fips = all_fips[all_fips[\"County Code (FIPS)\"] != \"000\"].reset_index()\n",
    "\n",
    "clean_fips = county_fips[[\"Area Name (including legal/statistical area description)\", \"FIPS\"]]\n",
    "clean_fips.head()"
   ]
  },
  {
   "cell_type": "code",
   "execution_count": 40,
   "metadata": {},
   "outputs": [
    {
     "data": {
      "text/html": [
       "<div>\n",
       "<style scoped>\n",
       "    .dataframe tbody tr th:only-of-type {\n",
       "        vertical-align: middle;\n",
       "    }\n",
       "\n",
       "    .dataframe tbody tr th {\n",
       "        vertical-align: top;\n",
       "    }\n",
       "\n",
       "    .dataframe thead th {\n",
       "        text-align: right;\n",
       "    }\n",
       "</style>\n",
       "<table border=\"1\" class=\"dataframe\">\n",
       "  <thead>\n",
       "    <tr style=\"text-align: right;\">\n",
       "      <th></th>\n",
       "      <th>Area Name (including legal/statistical area description)</th>\n",
       "      <th>FIPS</th>\n",
       "      <th>rent_gt_40</th>\n",
       "    </tr>\n",
       "  </thead>\n",
       "  <tbody>\n",
       "    <tr>\n",
       "      <th>0</th>\n",
       "      <td>Autauga County</td>\n",
       "      <td>01001</td>\n",
       "      <td>0.348900</td>\n",
       "    </tr>\n",
       "    <tr>\n",
       "      <th>1</th>\n",
       "      <td>Baldwin County</td>\n",
       "      <td>01003</td>\n",
       "      <td>0.312674</td>\n",
       "    </tr>\n",
       "    <tr>\n",
       "      <th>2</th>\n",
       "      <td>Barbour County</td>\n",
       "      <td>01005</td>\n",
       "      <td>0.386574</td>\n",
       "    </tr>\n",
       "    <tr>\n",
       "      <th>3</th>\n",
       "      <td>Bibb County</td>\n",
       "      <td>01007</td>\n",
       "      <td>0.254480</td>\n",
       "    </tr>\n",
       "    <tr>\n",
       "      <th>4</th>\n",
       "      <td>Blount County</td>\n",
       "      <td>01009</td>\n",
       "      <td>0.361050</td>\n",
       "    </tr>\n",
       "  </tbody>\n",
       "</table>\n",
       "</div>"
      ],
      "text/plain": [
       "  Area Name (including legal/statistical area description)   FIPS  rent_gt_40\n",
       "0                                     Autauga County        01001    0.348900\n",
       "1                                     Baldwin County        01003    0.312674\n",
       "2                                     Barbour County        01005    0.386574\n",
       "3                                        Bibb County        01007    0.254480\n",
       "4                                      Blount County        01009    0.361050"
      ]
     },
     "execution_count": 40,
     "metadata": {},
     "output_type": "execute_result"
    }
   ],
   "source": [
    "merge_table = pd.merge(clean_fips, mean_rent_40, how=\"outer\")\n",
    "\n",
    "#Fill missing counties with median\n",
    "merge_table[\"rent_gt_40\"].fillna(0.30953, inplace=True)\n",
    "\n",
    "merge_table.head()"
   ]
  },
  {
   "cell_type": "code",
   "execution_count": 41,
   "metadata": {},
   "outputs": [
    {
     "name": "stderr",
     "output_type": "stream",
     "text": [
      "C:\\Users\\Laura\\Anaconda3.1\\lib\\site-packages\\plotly\\plotly\\plotly.py:224: UserWarning:\n",
      "\n",
      "Woah there! Look at all those points! Due to browser limitations, the Plotly SVG drawing functions have a hard time graphing more than 500k data points for line charts, or 40k points for other types of charts. Here are some suggestions:\n",
      "(1) Use the `plotly.graph_objs.Scattergl` trace object to generate a WebGl graph.\n",
      "(2) Trying using the image API to return an image instead of a graph URL\n",
      "(3) Use matplotlib\n",
      "(4) See if you can create your visualization with fewer data points\n",
      "\n",
      "If the visualization you're using aggregates points (e.g., box plot, histogram, etc.) you can disregard this warning.\n",
      "\n"
     ]
    },
    {
     "name": "stdout",
     "output_type": "stream",
     "text": [
      "The draw time for this plot will be slow for all clients.\n"
     ]
    },
    {
     "name": "stderr",
     "output_type": "stream",
     "text": [
      "C:\\Users\\Laura\\Anaconda3.1\\lib\\site-packages\\plotly\\api\\v1\\clientresp.py:40: UserWarning:\n",
      "\n",
      "Estimated Draw Time Too Long\n",
      "\n"
     ]
    },
    {
     "data": {
      "text/html": [
       "<iframe id=\"igraph\" scrolling=\"no\" style=\"border:none;\" seamless=\"seamless\" src=\"https://plot.ly/~lauraraynes/2.embed\" height=\"450px\" width=\"900px\"></iframe>"
      ],
      "text/plain": [
       "<plotly.tools.PlotlyDisplay object>"
      ]
     },
     "execution_count": 41,
     "metadata": {},
     "output_type": "execute_result"
    }
   ],
   "source": [
    "colorscale = [\"00E53D\",\"00E219\",\"09DF00\",\"2BDD00\",\"4DDA00\",\"6DD800\",\"8DD500\",\"ACD300\",\\\n",
    "              \"CBD000\",\"CEB300\",\"CB9200\",\"C97100\",\"C65000\",\"C43100\",\"C11200\",\"BF000A\"]    \n",
    "    \n",
    "endpts = list(np.linspace(0, 0.86364, len(colorscale) - 1))\n",
    "fips = merge_table[\"FIPS\"]\n",
    "values = merge_table[\"rent_gt_40\"]\n",
    "\n",
    "fig = ff.create_choropleth(\n",
    "    fips=fips, values=values, scope=['usa'],\n",
    "    binning_endpoints=endpts, colorscale=colorscale,\n",
    "    show_state_data=False,\n",
    "    show_hover=True, centroid_marker={'opacity': 0},\n",
    "    county_outline={'color': 'rgb(255,255,255)', 'width': 0.5},\n",
    "    asp=2.9, title='Percentage of Population whose Rent Exceeds 40% of Income',\n",
    "    legend_title='Percentage of Population')\n",
    "\n",
    "py.iplot(fig, filename='choropleth_full_usa')"
   ]
  },
  {
   "cell_type": "code",
   "execution_count": 49,
   "metadata": {},
   "outputs": [
    {
     "data": {
      "text/html": [
       "<div>\n",
       "<style scoped>\n",
       "    .dataframe tbody tr th:only-of-type {\n",
       "        vertical-align: middle;\n",
       "    }\n",
       "\n",
       "    .dataframe tbody tr th {\n",
       "        vertical-align: top;\n",
       "    }\n",
       "\n",
       "    .dataframe thead th {\n",
       "        text-align: right;\n",
       "    }\n",
       "</style>\n",
       "<table border=\"1\" class=\"dataframe\">\n",
       "  <thead>\n",
       "    <tr style=\"text-align: right;\">\n",
       "      <th></th>\n",
       "      <th>FIPS</th>\n",
       "      <th>rent_gt_40</th>\n",
       "    </tr>\n",
       "  </thead>\n",
       "  <tbody>\n",
       "    <tr>\n",
       "      <th>0</th>\n",
       "      <td>26003</td>\n",
       "      <td>0.86364</td>\n",
       "    </tr>\n",
       "    <tr>\n",
       "      <th>1</th>\n",
       "      <td>51007</td>\n",
       "      <td>0.82320</td>\n",
       "    </tr>\n",
       "    <tr>\n",
       "      <th>2</th>\n",
       "      <td>72019</td>\n",
       "      <td>0.79675</td>\n",
       "    </tr>\n",
       "    <tr>\n",
       "      <th>3</th>\n",
       "      <td>51750</td>\n",
       "      <td>0.78646</td>\n",
       "    </tr>\n",
       "    <tr>\n",
       "      <th>4</th>\n",
       "      <td>28111</td>\n",
       "      <td>0.77647</td>\n",
       "    </tr>\n",
       "  </tbody>\n",
       "</table>\n",
       "</div>"
      ],
      "text/plain": [
       "    FIPS  rent_gt_40\n",
       "0  26003     0.86364\n",
       "1  51007     0.82320\n",
       "2  72019     0.79675\n",
       "3  51750     0.78646\n",
       "4  28111     0.77647"
      ]
     },
     "execution_count": 49,
     "metadata": {},
     "output_type": "execute_result"
    }
   ],
   "source": [
    "hundred = mean_rent_40.sort_values([\"rent_gt_40\"], ascending = False).head(100)\n",
    "top_100 = hundred.reset_index(drop = True)\n",
    "top_100.head()"
   ]
  },
  {
   "cell_type": "code",
   "execution_count": 50,
   "metadata": {},
   "outputs": [
    {
     "name": "stdout",
     "output_type": "stream",
     "text": [
      "1\n",
      "10\n",
      "63\n",
      "10\n",
      "16\n"
     ]
    }
   ],
   "source": [
    "northeast = []\n",
    "midwest = []\n",
    "south = []\n",
    "west = []\n",
    "territory = []\n",
    "\n",
    "index = 0\n",
    "\n",
    "for value in top_100[\"FIPS\"]:\n",
    "    if value[:2] in (\"09\", \"23\", \"25\", \"33\", \"44\", \"50\", \"34\", \"36\", \"42\"):\n",
    "        northeast.append(top_100.loc[index, \"rent_gt_40\"])\n",
    "    elif value[:2] in (\"17\", \"18\", \"26\", \"39\", \"55\", \"19\", \"20\", \"27\", \"29\", \"31\", \"38\", \"46\"):\n",
    "        midwest.append(top_100.loc[index, \"rent_gt_40\"])\n",
    "    elif value[:2] in (\"10\", \"11\", \"12\", \"13\", \"24\", \"37\", \"45\", \"51\", \"54\", \"01\", \"21\", \"28\", \"47\", \"05\", \"22\", \"40\", \"48\"):\n",
    "        south.append(top_100.loc[index, \"rent_gt_40\"])\n",
    "    elif value[:2] in (\"08\", \"16\", \"30\", \"32\", \"35\", \"49\", \"56\", \"02\", \"06\", \"15\", \"41\", \"53\"):\n",
    "        west.append(top_100.loc[index, \"rent_gt_40\"])\n",
    "    else:\n",
    "        territory.append(top_100.loc[index, \"rent_gt_40\"])   \n",
    "\n",
    "    index += 1\n",
    "    \n",
    "print(len(northeast))\n",
    "print(len(midwest))\n",
    "print(len(south))\n",
    "print(len(west))\n",
    "print(len(territory))\n",
    "\n"
   ]
  },
  {
   "cell_type": "code",
   "execution_count": null,
   "metadata": {},
   "outputs": [],
   "source": []
  }
 ],
 "metadata": {
  "kernelspec": {
   "display_name": "Python 3",
   "language": "python",
   "name": "python3"
  },
  "language_info": {
   "codemirror_mode": {
    "name": "ipython",
    "version": 3
   },
   "file_extension": ".py",
   "mimetype": "text/x-python",
   "name": "python",
   "nbconvert_exporter": "python",
   "pygments_lexer": "ipython3",
   "version": "3.6.4"
  }
 },
 "nbformat": 4,
 "nbformat_minor": 2
}
