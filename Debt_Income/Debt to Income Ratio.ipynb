{
 "cells": [
  {
   "cell_type": "markdown",
   "metadata": {},
   "source": [
    "# Debt to Income Ratio\n",
    "\n",
    "Working in the mortgage industry had me wondering about how many people in the United States are currently able to qualify for a home loan. I found a dataset on Kaggle which aggregated household debt and home price to create an average debt-to-income ratio for each county. In order to get a qualified mortgage, one must have a debt- to income ratio of under 40%. Anything above that would be living above one's means. Using this information, I created the below visualizations.\n",
    "\n",
    "I discovered that the Southern US has the highest percentage of people living above their means. This could be due to a number of factors: salaries not increasing as fast as the rising cost of housing, lack of jobs, people choosing houses they cannot afford, etc."
   ]
  },
  {
   "cell_type": "code",
   "execution_count": 1,
   "metadata": {},
   "outputs": [],
   "source": [
    "import pandas as pd\n",
    "import numpy as np\n",
    "import matplotlib.pyplot as plt\n",
    "import plotly\n",
    "from config import user, apikey\n",
    "plotly.tools.set_credentials_file(username=user, api_key=apikey)\n",
    "import plotly.plotly as py\n",
    "import plotly.figure_factory as ff\n",
    "\n",
    "data = pd.read_csv(\"real_estate_db.csv\", encoding='ISO-8859-1')\n",
    "all_fips = pd.read_csv(\"all-geocodes-v2016.csv\", encoding='ISO-8859-1')"
   ]
  },
  {
   "cell_type": "code",
   "execution_count": 2,
   "metadata": {},
   "outputs": [
    {
     "data": {
      "text/html": [
       "<div>\n",
       "<style scoped>\n",
       "    .dataframe tbody tr th:only-of-type {\n",
       "        vertical-align: middle;\n",
       "    }\n",
       "\n",
       "    .dataframe tbody tr th {\n",
       "        vertical-align: top;\n",
       "    }\n",
       "\n",
       "    .dataframe thead th {\n",
       "        text-align: right;\n",
       "    }\n",
       "</style>\n",
       "<table border=\"1\" class=\"dataframe\">\n",
       "  <thead>\n",
       "    <tr style=\"text-align: right;\">\n",
       "      <th></th>\n",
       "      <th>rent_gt_40</th>\n",
       "      <th>STATEID</th>\n",
       "      <th>COUNTYID</th>\n",
       "      <th>state</th>\n",
       "    </tr>\n",
       "  </thead>\n",
       "  <tbody>\n",
       "    <tr>\n",
       "      <th>0</th>\n",
       "      <td>0.15135</td>\n",
       "      <td>2</td>\n",
       "      <td>16</td>\n",
       "      <td>Alaska</td>\n",
       "    </tr>\n",
       "    <tr>\n",
       "      <th>1</th>\n",
       "      <td>0.20455</td>\n",
       "      <td>2</td>\n",
       "      <td>20</td>\n",
       "      <td>Alaska</td>\n",
       "    </tr>\n",
       "    <tr>\n",
       "      <th>2</th>\n",
       "      <td>0.54368</td>\n",
       "      <td>2</td>\n",
       "      <td>20</td>\n",
       "      <td>Alaska</td>\n",
       "    </tr>\n",
       "    <tr>\n",
       "      <th>3</th>\n",
       "      <td>0.27286</td>\n",
       "      <td>2</td>\n",
       "      <td>20</td>\n",
       "      <td>Alaska</td>\n",
       "    </tr>\n",
       "    <tr>\n",
       "      <th>4</th>\n",
       "      <td>0.24829</td>\n",
       "      <td>2</td>\n",
       "      <td>20</td>\n",
       "      <td>Alaska</td>\n",
       "    </tr>\n",
       "  </tbody>\n",
       "</table>\n",
       "</div>"
      ],
      "text/plain": [
       "   rent_gt_40  STATEID  COUNTYID   state\n",
       "0     0.15135        2        16  Alaska\n",
       "1     0.20455        2        20  Alaska\n",
       "2     0.54368        2        20  Alaska\n",
       "3     0.27286        2        20  Alaska\n",
       "4     0.24829        2        20  Alaska"
      ]
     },
     "execution_count": 2,
     "metadata": {},
     "output_type": "execute_result"
    }
   ],
   "source": [
    "rent_40_df = data[[\"rent_gt_40\", 'STATEID', \"COUNTYID\", \"state\"]]\n",
    "rent_40_df.head()"
   ]
  },
  {
   "cell_type": "code",
   "execution_count": 3,
   "metadata": {},
   "outputs": [],
   "source": [
    "rent_40_df.loc[:,\"STATEID\"] = rent_40_df[\"STATEID\"].map(\"{:02d}\".format)\n",
    "rent_40_df.loc[:,\"COUNTYID\"] = rent_40_df[\"COUNTYID\"].map(\"{:003d}\".format)\n",
    "rent_40_df[\"FIPS\"] = rent_40_df[\"STATEID\"].map(str) + rent_40_df[\"COUNTYID\"].map(str)\n",
    "rent_40_clean = rent_40_df.dropna(how='any')"
   ]
  },
  {
   "cell_type": "code",
   "execution_count": 4,
   "metadata": {},
   "outputs": [
    {
     "data": {
      "text/html": [
       "<div>\n",
       "<style scoped>\n",
       "    .dataframe tbody tr th:only-of-type {\n",
       "        vertical-align: middle;\n",
       "    }\n",
       "\n",
       "    .dataframe tbody tr th {\n",
       "        vertical-align: top;\n",
       "    }\n",
       "\n",
       "    .dataframe thead th {\n",
       "        text-align: right;\n",
       "    }\n",
       "</style>\n",
       "<table border=\"1\" class=\"dataframe\">\n",
       "  <thead>\n",
       "    <tr style=\"text-align: right;\">\n",
       "      <th></th>\n",
       "      <th>FIPS</th>\n",
       "      <th>rent_gt_40</th>\n",
       "    </tr>\n",
       "  </thead>\n",
       "  <tbody>\n",
       "    <tr>\n",
       "      <th>0</th>\n",
       "      <td>01001</td>\n",
       "      <td>0.348900</td>\n",
       "    </tr>\n",
       "    <tr>\n",
       "      <th>1</th>\n",
       "      <td>01003</td>\n",
       "      <td>0.312674</td>\n",
       "    </tr>\n",
       "    <tr>\n",
       "      <th>2</th>\n",
       "      <td>01005</td>\n",
       "      <td>0.386574</td>\n",
       "    </tr>\n",
       "    <tr>\n",
       "      <th>3</th>\n",
       "      <td>01007</td>\n",
       "      <td>0.254480</td>\n",
       "    </tr>\n",
       "    <tr>\n",
       "      <th>4</th>\n",
       "      <td>01009</td>\n",
       "      <td>0.361050</td>\n",
       "    </tr>\n",
       "  </tbody>\n",
       "</table>\n",
       "</div>"
      ],
      "text/plain": [
       "    FIPS  rent_gt_40\n",
       "0  01001    0.348900\n",
       "1  01003    0.312674\n",
       "2  01005    0.386574\n",
       "3  01007    0.254480\n",
       "4  01009    0.361050"
      ]
     },
     "execution_count": 4,
     "metadata": {},
     "output_type": "execute_result"
    }
   ],
   "source": [
    "grouped_data = rent_40_clean.groupby([\"FIPS\"])\n",
    "mean_rent_40 = grouped_data.mean().reset_index()\n",
    "mean_rent_40.head()"
   ]
  },
  {
   "cell_type": "code",
   "execution_count": 5,
   "metadata": {},
   "outputs": [],
   "source": [
    "#Add leading zeros to federal geocodes dataframe\n",
    "all_fips.loc[:,\"State Code (FIPS)\"] = all_fips[\"State Code (FIPS)\"].map(\"{:02d}\".format)\n",
    "all_fips.loc[:,\"County Code (FIPS)\"] = all_fips[\"County Code (FIPS)\"].map(\"{:003d}\".format)\n",
    "\n",
    "all_fips[\"FIPS\"] = all_fips[\"State Code (FIPS)\"].map(str) + all_fips[\"County Code (FIPS)\"].map(str)\n",
    "\n",
    "county_fips = all_fips[all_fips[\"County Code (FIPS)\"] != \"000\"].reset_index()\n",
    "clean_fips = county_fips[[\"FIPS\"]]"
   ]
  },
  {
   "cell_type": "code",
   "execution_count": 6,
   "metadata": {},
   "outputs": [
    {
     "data": {
      "text/html": [
       "<div>\n",
       "<style scoped>\n",
       "    .dataframe tbody tr th:only-of-type {\n",
       "        vertical-align: middle;\n",
       "    }\n",
       "\n",
       "    .dataframe tbody tr th {\n",
       "        vertical-align: top;\n",
       "    }\n",
       "\n",
       "    .dataframe thead th {\n",
       "        text-align: right;\n",
       "    }\n",
       "</style>\n",
       "<table border=\"1\" class=\"dataframe\">\n",
       "  <thead>\n",
       "    <tr style=\"text-align: right;\">\n",
       "      <th></th>\n",
       "      <th>FIPS</th>\n",
       "      <th>rent_gt_40</th>\n",
       "    </tr>\n",
       "  </thead>\n",
       "  <tbody>\n",
       "    <tr>\n",
       "      <th>0</th>\n",
       "      <td>01001</td>\n",
       "      <td>0.348900</td>\n",
       "    </tr>\n",
       "    <tr>\n",
       "      <th>1</th>\n",
       "      <td>01003</td>\n",
       "      <td>0.312674</td>\n",
       "    </tr>\n",
       "    <tr>\n",
       "      <th>2</th>\n",
       "      <td>01005</td>\n",
       "      <td>0.386574</td>\n",
       "    </tr>\n",
       "    <tr>\n",
       "      <th>3</th>\n",
       "      <td>01007</td>\n",
       "      <td>0.254480</td>\n",
       "    </tr>\n",
       "    <tr>\n",
       "      <th>4</th>\n",
       "      <td>01009</td>\n",
       "      <td>0.361050</td>\n",
       "    </tr>\n",
       "  </tbody>\n",
       "</table>\n",
       "</div>"
      ],
      "text/plain": [
       "    FIPS  rent_gt_40\n",
       "0  01001    0.348900\n",
       "1  01003    0.312674\n",
       "2  01005    0.386574\n",
       "3  01007    0.254480\n",
       "4  01009    0.361050"
      ]
     },
     "execution_count": 6,
     "metadata": {},
     "output_type": "execute_result"
    }
   ],
   "source": [
    "#Merge to include missing counties\n",
    "merge_table = pd.merge(clean_fips, mean_rent_40, how=\"outer\")\n",
    "\n",
    "#Fill missing counties with median\n",
    "merge_table[\"rent_gt_40\"].fillna(mean_rent_40[\"rent_gt_40\"].median(), inplace=True)\n",
    "\n",
    "merge_table.head()"
   ]
  },
  {
   "cell_type": "markdown",
   "metadata": {},
   "source": [
    "I ran into several limitations with plotly at this stage. First, I encountered a runtime error due to such a large amount of data. I realized that I could not create one visualization of the full United States. I opted to break up the country into its main regions: Northeast, Midwest, South, and West. Additionally, I found that the sheer size of Alaska and distance of Hawaii forced the West plot to become too small to read. I made the decision to not include those two states."
   ]
  },
  {
   "cell_type": "code",
   "execution_count": 7,
   "metadata": {},
   "outputs": [],
   "source": [
    "northeast = merge_table.loc[merge_table[\"FIPS\"].str[:2].isin(\n",
    "    [\"09\", \"23\", \"25\", \"33\", \"44\", \"50\", \"34\", \"36\", \"42\"]\n",
    ")].reset_index(drop=True)\n",
    "\n",
    "midwest = merge_table.loc[merge_table[\"FIPS\"].str[:2].isin(\n",
    "    [\"17\", \"18\", \"26\", \"39\", \"55\", \"19\", \"20\", \"27\", \"29\", \"31\", \"38\", \"46\"]\n",
    ")].reset_index(drop=True)\n",
    "\n",
    "south = merge_table.loc[merge_table[\"FIPS\"].str[:2].isin(\n",
    "    [\"10\", \"11\", \"12\", \"13\", \"24\", \"37\", \"45\", \"51\", \"54\", \"01\", \"21\", \"28\", \"47\", \"05\", \"22\", \"40\", \"48\"]\n",
    ")].reset_index(drop=True)\n",
    "\n",
    "west = merge_table.loc[merge_table[\"FIPS\"].str[:2].isin(\n",
    "    [\"04\", \"08\", \"16\", \"30\", \"32\", \"35\", \"49\", \"56\", \"06\", \"41\", \"53\"]\n",
    ")].reset_index(drop=True)"
   ]
  },
  {
   "cell_type": "markdown",
   "metadata": {},
   "source": [
    "# Northeast"
   ]
  },
  {
   "cell_type": "code",
   "execution_count": 8,
   "metadata": {},
   "outputs": [
    {
     "name": "stderr",
     "output_type": "stream",
     "text": [
      "C:\\Users\\rayne\\Anaconda3\\lib\\site-packages\\plotly\\plotly\\plotly.py:224: UserWarning:\n",
      "\n",
      "Woah there! Look at all those points! Due to browser limitations, the Plotly SVG drawing functions have a hard time graphing more than 500k data points for line charts, or 40k points for other types of charts. Here are some suggestions:\n",
      "(1) Use the `plotly.graph_objs.Scattergl` trace object to generate a WebGl graph.\n",
      "(2) Trying using the image API to return an image instead of a graph URL\n",
      "(3) Use matplotlib\n",
      "(4) See if you can create your visualization with fewer data points\n",
      "\n",
      "If the visualization you're using aggregates points (e.g., box plot, histogram, etc.) you can disregard this warning.\n",
      "\n"
     ]
    },
    {
     "name": "stdout",
     "output_type": "stream",
     "text": [
      "The draw time for this plot will be slow for all clients.\n"
     ]
    },
    {
     "name": "stderr",
     "output_type": "stream",
     "text": [
      "C:\\Users\\rayne\\Anaconda3\\lib\\site-packages\\plotly\\api\\v1\\clientresp.py:40: UserWarning:\n",
      "\n",
      "Estimated Draw Time Too Long\n",
      "\n"
     ]
    },
    {
     "data": {
      "text/html": [
       "<iframe id=\"igraph\" scrolling=\"no\" style=\"border:none;\" seamless=\"seamless\" src=\"https://plot.ly/~lauraraynes/20.embed\" height=\"450px\" width=\"900px\"></iframe>"
      ],
      "text/plain": [
       "<plotly.tools.PlotlyDisplay object>"
      ]
     },
     "execution_count": 8,
     "metadata": {},
     "output_type": "execute_result"
    }
   ],
   "source": [
    "colorscale = [\"00E53D\",\"00E219\",\"09DF00\",\"2BDD00\",\"4DDA00\",\"6DD800\",\"8DD500\",\"ACD300\",\\\n",
    "              \"CBD000\",\"CEB300\",\"CB9200\",\"C97100\",\"C65000\",\"C43100\",\"C11200\",\"BF000A\"]    \n",
    "    \n",
    "endpts = list(np.linspace(0, 0.86364, len(colorscale) - 1))\n",
    "fips = northeast[\"FIPS\"]\n",
    "values = northeast[\"rent_gt_40\"]\n",
    "scope = [\"Connecticut\", \"Maine\", \"Massachusetts\", \"New Hampshire\", \"New Jersey\", \"Vermont\", \"New York\", \"Pennsylvania\"]\n",
    "\n",
    "fig = ff.create_choropleth(fips=fips, values=values, binning_endpoints=endpts, scope=scope,\n",
    "                           colorscale=colorscale, county_outline={'color': 'rgb(255,255,255)', 'width': 0.25},\n",
    "                          title='Northeast: Rent Exceeds 40% of Income',\n",
    "                          legend_title='% of Population')\n",
    "py.iplot(fig, filename='northeast')"
   ]
  },
  {
   "cell_type": "markdown",
   "metadata": {},
   "source": [
    "# Midwest"
   ]
  },
  {
   "cell_type": "code",
   "execution_count": 9,
   "metadata": {},
   "outputs": [
    {
     "name": "stderr",
     "output_type": "stream",
     "text": [
      "C:\\Users\\rayne\\Anaconda3\\lib\\site-packages\\plotly\\plotly\\plotly.py:224: UserWarning:\n",
      "\n",
      "Woah there! Look at all those points! Due to browser limitations, the Plotly SVG drawing functions have a hard time graphing more than 500k data points for line charts, or 40k points for other types of charts. Here are some suggestions:\n",
      "(1) Use the `plotly.graph_objs.Scattergl` trace object to generate a WebGl graph.\n",
      "(2) Trying using the image API to return an image instead of a graph URL\n",
      "(3) Use matplotlib\n",
      "(4) See if you can create your visualization with fewer data points\n",
      "\n",
      "If the visualization you're using aggregates points (e.g., box plot, histogram, etc.) you can disregard this warning.\n",
      "\n"
     ]
    },
    {
     "name": "stdout",
     "output_type": "stream",
     "text": [
      "The draw time for this plot will be slow for all clients.\n"
     ]
    },
    {
     "name": "stderr",
     "output_type": "stream",
     "text": [
      "C:\\Users\\rayne\\Anaconda3\\lib\\site-packages\\plotly\\api\\v1\\clientresp.py:40: UserWarning:\n",
      "\n",
      "Estimated Draw Time Too Long\n",
      "\n"
     ]
    },
    {
     "data": {
      "text/html": [
       "<iframe id=\"igraph\" scrolling=\"no\" style=\"border:none;\" seamless=\"seamless\" src=\"https://plot.ly/~lauraraynes/14.embed\" height=\"450px\" width=\"900px\"></iframe>"
      ],
      "text/plain": [
       "<plotly.tools.PlotlyDisplay object>"
      ]
     },
     "execution_count": 9,
     "metadata": {},
     "output_type": "execute_result"
    }
   ],
   "source": [
    "colorscale = [\"00E53D\",\"00E219\",\"09DF00\",\"2BDD00\",\"4DDA00\",\"6DD800\",\"8DD500\",\"ACD300\",\\\n",
    "              \"CBD000\",\"CEB300\",\"CB9200\",\"C97100\",\"C65000\",\"C43100\",\"C11200\",\"BF000A\"]    \n",
    "    \n",
    "endpts = list(np.linspace(0, 0.86364, len(colorscale) - 1))\n",
    "fips = midwest[\"FIPS\"]\n",
    "values = midwest[\"rent_gt_40\"]\n",
    "scope = [\"Illinois\", \"Indiana\", \"Michigan\", \"Ohio\", \"Wisconsin\", \"Kansas\", \"Minnesota\", \\\n",
    "         \"Missouri\", \"Nebraska\", \"North Dakota\", \"South Dakota\"]\n",
    "\n",
    "fig = ff.create_choropleth(fips=fips, values=values, binning_endpoints=endpts, scope=scope,\n",
    "                           colorscale=colorscale, county_outline={'color': 'rgb(255,255,255)', 'width': 0.25},\n",
    "                          title='Midwest: Rent Exceeds 40% of Income',\n",
    "                          legend_title='% of Population')\n",
    "py.iplot(fig, filename='midwest')"
   ]
  },
  {
   "cell_type": "markdown",
   "metadata": {},
   "source": [
    "# South"
   ]
  },
  {
   "cell_type": "code",
   "execution_count": 10,
   "metadata": {},
   "outputs": [
    {
     "data": {
      "text/html": [
       "<iframe id=\"igraph\" scrolling=\"no\" style=\"border:none;\" seamless=\"seamless\" src=\"https://plot.ly/~lauraraynes/16.embed\" height=\"450px\" width=\"900px\"></iframe>"
      ],
      "text/plain": [
       "<plotly.tools.PlotlyDisplay object>"
      ]
     },
     "execution_count": 10,
     "metadata": {},
     "output_type": "execute_result"
    }
   ],
   "source": [
    "colorscale = [\"00E53D\",\"00E219\",\"09DF00\",\"2BDD00\",\"4DDA00\",\"6DD800\",\"8DD500\",\"ACD300\",\\\n",
    "              \"CBD000\",\"CEB300\",\"CB9200\",\"C97100\",\"C65000\",\"C43100\",\"C11200\",\"BF000A\"]    \n",
    "    \n",
    "endpts = list(np.linspace(0, 0.86364, len(colorscale) - 1))\n",
    "fips = south[\"FIPS\"]\n",
    "values = south[\"rent_gt_40\"]\n",
    "scope = [\"Delaware\", \"District of Columbia\", \"Florida\", \"Georgia\", \"Maryland\", \"North Carolina\", \\\n",
    "         \"South Carolina\", \"Virginia\", \"West Virginia\", \"Alabama\", \"Kentucky\", \"Mississippi\", \"Tennessee\", \\\n",
    "         \"Arkansas\", \"Louisiana\", \"Oklahoma\", \"Texas\"]\n",
    "\n",
    "fig = ff.create_choropleth(fips=fips, values=values, binning_endpoints=endpts, scope=scope,\n",
    "                           colorscale=colorscale, county_outline={'color': 'rgb(255,255,255)', 'width': 0.25},\n",
    "                          title='South: Rent Exceeds 40% of Income',\n",
    "                          legend_title='% of Population')\n",
    "py.iplot(fig, filename='south')"
   ]
  },
  {
   "cell_type": "markdown",
   "metadata": {},
   "source": [
    "# West"
   ]
  },
  {
   "cell_type": "code",
   "execution_count": 11,
   "metadata": {},
   "outputs": [
    {
     "data": {
      "text/html": [
       "<iframe id=\"igraph\" scrolling=\"no\" style=\"border:none;\" seamless=\"seamless\" src=\"https://plot.ly/~lauraraynes/18.embed\" height=\"450px\" width=\"900px\"></iframe>"
      ],
      "text/plain": [
       "<plotly.tools.PlotlyDisplay object>"
      ]
     },
     "execution_count": 11,
     "metadata": {},
     "output_type": "execute_result"
    }
   ],
   "source": [
    "colorscale = [\"00E53D\",\"00E219\",\"09DF00\",\"2BDD00\",\"4DDA00\",\"6DD800\",\"8DD500\",\"ACD300\",\\\n",
    "              \"CBD000\",\"CEB300\",\"CB9200\",\"C97100\",\"C65000\",\"C43100\",\"C11200\",\"BF000A\"]    \n",
    "    \n",
    "endpts = list(np.linspace(0, 0.86364, len(colorscale) - 1))\n",
    "fips = west[\"FIPS\"]\n",
    "values = west[\"rent_gt_40\"]\n",
    "scope = [\"Arizona\", \"Colorado\", \"Idaho\", \"Montana\", \"Nevada\", \"New Mexico\", \"Utah\", \"Wyoming\", \\\n",
    "         \"California\", \"Oregon\", \"Washington\"]\n",
    "\n",
    "fig = ff.create_choropleth(fips=fips, values=values, binning_endpoints=endpts, scope=scope,\n",
    "                           colorscale=colorscale, county_outline={'color': 'rgb(255,255,255)', 'width': 0.25},\n",
    "                          title='West: Rent Exceeds 40% of Income',\n",
    "                          legend_title='% of Population')\n",
    "py.iplot(fig, filename='west')"
   ]
  },
  {
   "cell_type": "markdown",
   "metadata": {},
   "source": [
    "# Top 100 Counties"
   ]
  },
  {
   "cell_type": "markdown",
   "metadata": {},
   "source": [
    "After viewing these choropleths, my next question was: Which region is struggling the most? I proceeded to collect 100 counties with the highest debt-to-income ratio into a pie chart. It is clear that the South has the most counties in peril at 63 in total. The remaining regions combined make up the final third of the top 100. Unfortunately Plotly does not have the ability to show US territories which make up the next highest region at 16%."
   ]
  },
  {
   "cell_type": "code",
   "execution_count": 12,
   "metadata": {},
   "outputs": [],
   "source": [
    "top_100 = mean_rent_40.sort_values([\"rent_gt_40\"], ascending = False).head(100).reset_index(drop = True)"
   ]
  },
  {
   "cell_type": "code",
   "execution_count": 13,
   "metadata": {},
   "outputs": [],
   "source": [
    "northeast = 0\n",
    "midwest = 0\n",
    "south = 0\n",
    "west = 0\n",
    "territory = 0\n",
    "\n",
    "for value in top_100[\"FIPS\"]:\n",
    "    if value[:2] in (\"09\", \"23\", \"25\", \"33\", \"44\", \"50\", \"34\", \"36\", \"42\"):\n",
    "        northeast += 1\n",
    "    elif value[:2] in (\"17\", \"18\", \"26\", \"39\", \"55\", \"19\", \"20\", \"27\", \"29\", \"31\", \"38\", \"46\"):\n",
    "        midwest += 1\n",
    "    elif value[:2] in (\"10\", \"11\", \"12\", \"13\", \"24\", \"37\", \"45\", \"51\", \"54\", \"01\", \"21\", \"28\", \"47\", \"05\", \"22\", \"40\", \"48\"):\n",
    "        south += 1\n",
    "    elif value[:2] in (\"04\", \"08\", \"16\", \"30\", \"32\", \"35\", \"49\", \"56\", \"02\", \"06\", \"15\", \"41\", \"53\"):\n",
    "        west += 1\n",
    "    else:\n",
    "        territory += 1"
   ]
  },
  {
   "cell_type": "code",
   "execution_count": 14,
   "metadata": {},
   "outputs": [
    {
     "data": {
      "image/png": "[encoded data removed]",
      "text/plain": [
       "<Figure size 432x288 with 1 Axes>"
      ]
     },
     "metadata": {},
     "output_type": "display_data"
    }
   ],
   "source": [
    "labels = [\"South\", \"Territory\", \"Midwest\", \"West\", \"Northeast\"]\n",
    "sizes = [south, territory, midwest, west, northeast]\n",
    "colors = [\"darkred\", \"purple\", \"darkgreen\", \"orange\", \"yellow\"]\n",
    "explode = (0.1, 0, 0, 0, 0)\n",
    "\n",
    "plt.pie(sizes, explode=explode, labels=labels, colors=colors, autopct=\"%1.1f%%\", shadow=True, startangle=180,\n",
    "       wedgeprops={\"edgecolor\":\"k\",'linewidth': 2})\n",
    "\n",
    "plt.axis(\"equal\")\n",
    "plt.title(\"Distribution of Top 100 Counties in Debt\")\n",
    "plt.show()"
   ]
  },
  {
   "cell_type": "code",
   "execution_count": null,
   "metadata": {},
   "outputs": [],
   "source": []
  }
 ],
 "metadata": {
  "kernelspec": {
   "display_name": "Python 3",
   "language": "python",
   "name": "python3"
  },
  "language_info": {
   "codemirror_mode": {
    "name": "ipython",
    "version": 3
   },
   "file_extension": ".py",
   "mimetype": "text/x-python",
   "name": "python",
   "nbconvert_exporter": "python",
   "pygments_lexer": "ipython3",
   "version": "3.6.5"
  }
 },
 "nbformat": 4,
 "nbformat_minor": 2
}
